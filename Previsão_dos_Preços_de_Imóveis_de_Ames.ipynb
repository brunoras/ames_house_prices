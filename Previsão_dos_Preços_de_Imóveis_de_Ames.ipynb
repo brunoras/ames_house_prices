{
  "nbformat": 4,
  "nbformat_minor": 0,
  "metadata": {
    "colab": {
      "name": "Previsão dos Preços de Imóveis de Ames.ipynb",
      "provenance": [],
      "collapsed_sections": [
        "WiQCkogGRPZx",
        "BVuHAHCf1Tfd",
        "F3PV8V_fkhRN",
        "qktD_i_fvihJ",
        "AkVBegnzIFeK",
        "Q5icCZDY8QrK",
        "-LhU_9vt9dHa",
        "N0kBh7VCF7gl"
      ],
      "mount_file_id": "1aZ8-upSkSvXKJJoWhiDT80G2pnUXQSbp",
      "authorship_tag": "ABX9TyPcs2n2iNG7WEdpEuU+82RA",
      "include_colab_link": true
    },
    "kernelspec": {
      "name": "python3",
      "display_name": "Python 3"
    },
    "language_info": {
      "name": "python"
    }
  },
  "cells": [
    {
      "cell_type": "markdown",
      "metadata": {
        "id": "view-in-github",
        "colab_type": "text"
      },
      "source": [
        "<a href=\"https://colab.research.google.com/github/brunoras/ames_house_prices/blob/main/Previs%C3%A3o_dos_Pre%C3%A7os_de_Im%C3%B3veis_de_Ames.ipynb\" target=\"_parent\"><img src=\"https://colab.research.google.com/assets/colab-badge.svg\" alt=\"Open In Colab\"/></a>"
      ]
    },
    {
      "cell_type": "markdown",
      "source": [
        "# Previsão dos Preços de Imóveis de Ames, Iowa"
      ],
      "metadata": {
        "id": "wOP5Gc_MiYPe"
      }
    },
    {
      "cell_type": "code",
      "execution_count": null,
      "metadata": {
        "id": "gvBEsR_8GFGS"
      },
      "outputs": [],
      "source": [
        "import pandas as pd\n",
        "pd.set_option('display.max_rows', 100)\n",
        "pd.set_option('display.float_format', lambda x: '{:.3f}'.format(x))\n",
        "import numpy as np\n",
        "\n",
        "import matplotlib.pyplot as plt\n",
        "import seaborn as sns\n",
        "sns.set(rc = {\"figure.figsize\" : (11, 7)})\n",
        "\n",
        "from scipy.stats import norm, skew\n",
        "from scipy import stats\n",
        "from scipy.special import boxcox1p"
      ]
    },
    {
      "cell_type": "markdown",
      "source": [
        "Apresentação do Dataset"
      ],
      "metadata": {
        "id": "g3wV87EqIAQE"
      }
    },
    {
      "cell_type": "code",
      "source": [
        "path = '/content/drive/MyDrive/Projeto Minha Casa/'\n",
        "train = pd.read_csv(path + 'train.csv')\n",
        "train.drop(['Id'], axis=1, inplace=True)\n",
        "train.head()"
      ],
      "metadata": {
        "colab": {
          "base_uri": "https://localhost:8080/",
          "height": 299
        },
        "id": "S2CtjGc7GR4O",
        "outputId": "0b2c2372-7195-4ebe-921a-cb0ab624f9a0"
      },
      "execution_count": null,
      "outputs": [
        {
          "output_type": "execute_result",
          "data": {
            "text/plain": [
              "   MSSubClass MSZoning  LotFrontage  LotArea Street Alley LotShape  \\\n",
              "0          60       RL       65.000     8450   Pave   NaN      Reg   \n",
              "1          20       RL       80.000     9600   Pave   NaN      Reg   \n",
              "2          60       RL       68.000    11250   Pave   NaN      IR1   \n",
              "3          70       RL       60.000     9550   Pave   NaN      IR1   \n",
              "4          60       RL       84.000    14260   Pave   NaN      IR1   \n",
              "\n",
              "  LandContour Utilities LotConfig  ... PoolArea PoolQC Fence MiscFeature  \\\n",
              "0         Lvl    AllPub    Inside  ...        0    NaN   NaN         NaN   \n",
              "1         Lvl    AllPub       FR2  ...        0    NaN   NaN         NaN   \n",
              "2         Lvl    AllPub    Inside  ...        0    NaN   NaN         NaN   \n",
              "3         Lvl    AllPub    Corner  ...        0    NaN   NaN         NaN   \n",
              "4         Lvl    AllPub       FR2  ...        0    NaN   NaN         NaN   \n",
              "\n",
              "  MiscVal MoSold  YrSold  SaleType  SaleCondition  SalePrice  \n",
              "0       0      2    2008        WD         Normal     208500  \n",
              "1       0      5    2007        WD         Normal     181500  \n",
              "2       0      9    2008        WD         Normal     223500  \n",
              "3       0      2    2006        WD        Abnorml     140000  \n",
              "4       0     12    2008        WD         Normal     250000  \n",
              "\n",
              "[5 rows x 80 columns]"
            ],
            "text/html": [
              "\n",
              "  <div id=\"df-a7dcdfa7-e00d-485a-bcaf-50063817aa45\">\n",
              "    <div class=\"colab-df-container\">\n",
              "      <div>\n",
              "<style scoped>\n",
              "    .dataframe tbody tr th:only-of-type {\n",
              "        vertical-align: middle;\n",
              "    }\n",
              "\n",
              "    .dataframe tbody tr th {\n",
              "        vertical-align: top;\n",
              "    }\n",
              "\n",
              "    .dataframe thead th {\n",
              "        text-align: right;\n",
              "    }\n",
              "</style>\n",
              "<table border=\"1\" class=\"dataframe\">\n",
              "  <thead>\n",
              "    <tr style=\"text-align: right;\">\n",
              "      <th></th>\n",
              "      <th>MSSubClass</th>\n",
              "      <th>MSZoning</th>\n",
              "      <th>LotFrontage</th>\n",
              "      <th>LotArea</th>\n",
              "      <th>Street</th>\n",
              "      <th>Alley</th>\n",
              "      <th>LotShape</th>\n",
              "      <th>LandContour</th>\n",
              "      <th>Utilities</th>\n",
              "      <th>LotConfig</th>\n",
              "      <th>...</th>\n",
              "      <th>PoolArea</th>\n",
              "      <th>PoolQC</th>\n",
              "      <th>Fence</th>\n",
              "      <th>MiscFeature</th>\n",
              "      <th>MiscVal</th>\n",
              "      <th>MoSold</th>\n",
              "      <th>YrSold</th>\n",
              "      <th>SaleType</th>\n",
              "      <th>SaleCondition</th>\n",
              "      <th>SalePrice</th>\n",
              "    </tr>\n",
              "  </thead>\n",
              "  <tbody>\n",
              "    <tr>\n",
              "      <th>0</th>\n",
              "      <td>60</td>\n",
              "      <td>RL</td>\n",
              "      <td>65.000</td>\n",
              "      <td>8450</td>\n",
              "      <td>Pave</td>\n",
              "      <td>NaN</td>\n",
              "      <td>Reg</td>\n",
              "      <td>Lvl</td>\n",
              "      <td>AllPub</td>\n",
              "      <td>Inside</td>\n",
              "      <td>...</td>\n",
              "      <td>0</td>\n",
              "      <td>NaN</td>\n",
              "      <td>NaN</td>\n",
              "      <td>NaN</td>\n",
              "      <td>0</td>\n",
              "      <td>2</td>\n",
              "      <td>2008</td>\n",
              "      <td>WD</td>\n",
              "      <td>Normal</td>\n",
              "      <td>208500</td>\n",
              "    </tr>\n",
              "    <tr>\n",
              "      <th>1</th>\n",
              "      <td>20</td>\n",
              "      <td>RL</td>\n",
              "      <td>80.000</td>\n",
              "      <td>9600</td>\n",
              "      <td>Pave</td>\n",
              "      <td>NaN</td>\n",
              "      <td>Reg</td>\n",
              "      <td>Lvl</td>\n",
              "      <td>AllPub</td>\n",
              "      <td>FR2</td>\n",
              "      <td>...</td>\n",
              "      <td>0</td>\n",
              "      <td>NaN</td>\n",
              "      <td>NaN</td>\n",
              "      <td>NaN</td>\n",
              "      <td>0</td>\n",
              "      <td>5</td>\n",
              "      <td>2007</td>\n",
              "      <td>WD</td>\n",
              "      <td>Normal</td>\n",
              "      <td>181500</td>\n",
              "    </tr>\n",
              "    <tr>\n",
              "      <th>2</th>\n",
              "      <td>60</td>\n",
              "      <td>RL</td>\n",
              "      <td>68.000</td>\n",
              "      <td>11250</td>\n",
              "      <td>Pave</td>\n",
              "      <td>NaN</td>\n",
              "      <td>IR1</td>\n",
              "      <td>Lvl</td>\n",
              "      <td>AllPub</td>\n",
              "      <td>Inside</td>\n",
              "      <td>...</td>\n",
              "      <td>0</td>\n",
              "      <td>NaN</td>\n",
              "      <td>NaN</td>\n",
              "      <td>NaN</td>\n",
              "      <td>0</td>\n",
              "      <td>9</td>\n",
              "      <td>2008</td>\n",
              "      <td>WD</td>\n",
              "      <td>Normal</td>\n",
              "      <td>223500</td>\n",
              "    </tr>\n",
              "    <tr>\n",
              "      <th>3</th>\n",
              "      <td>70</td>\n",
              "      <td>RL</td>\n",
              "      <td>60.000</td>\n",
              "      <td>9550</td>\n",
              "      <td>Pave</td>\n",
              "      <td>NaN</td>\n",
              "      <td>IR1</td>\n",
              "      <td>Lvl</td>\n",
              "      <td>AllPub</td>\n",
              "      <td>Corner</td>\n",
              "      <td>...</td>\n",
              "      <td>0</td>\n",
              "      <td>NaN</td>\n",
              "      <td>NaN</td>\n",
              "      <td>NaN</td>\n",
              "      <td>0</td>\n",
              "      <td>2</td>\n",
              "      <td>2006</td>\n",
              "      <td>WD</td>\n",
              "      <td>Abnorml</td>\n",
              "      <td>140000</td>\n",
              "    </tr>\n",
              "    <tr>\n",
              "      <th>4</th>\n",
              "      <td>60</td>\n",
              "      <td>RL</td>\n",
              "      <td>84.000</td>\n",
              "      <td>14260</td>\n",
              "      <td>Pave</td>\n",
              "      <td>NaN</td>\n",
              "      <td>IR1</td>\n",
              "      <td>Lvl</td>\n",
              "      <td>AllPub</td>\n",
              "      <td>FR2</td>\n",
              "      <td>...</td>\n",
              "      <td>0</td>\n",
              "      <td>NaN</td>\n",
              "      <td>NaN</td>\n",
              "      <td>NaN</td>\n",
              "      <td>0</td>\n",
              "      <td>12</td>\n",
              "      <td>2008</td>\n",
              "      <td>WD</td>\n",
              "      <td>Normal</td>\n",
              "      <td>250000</td>\n",
              "    </tr>\n",
              "  </tbody>\n",
              "</table>\n",
              "<p>5 rows × 80 columns</p>\n",
              "</div>\n",
              "      <button class=\"colab-df-convert\" onclick=\"convertToInteractive('df-a7dcdfa7-e00d-485a-bcaf-50063817aa45')\"\n",
              "              title=\"Convert this dataframe to an interactive table.\"\n",
              "              style=\"display:none;\">\n",
              "        \n",
              "  <svg xmlns=\"http://www.w3.org/2000/svg\" height=\"24px\"viewBox=\"0 0 24 24\"\n",
              "       width=\"24px\">\n",
              "    <path d=\"M0 0h24v24H0V0z\" fill=\"none\"/>\n",
              "    <path d=\"M18.56 5.44l.94 2.06.94-2.06 2.06-.94-2.06-.94-.94-2.06-.94 2.06-2.06.94zm-11 1L8.5 8.5l.94-2.06 2.06-.94-2.06-.94L8.5 2.5l-.94 2.06-2.06.94zm10 10l.94 2.06.94-2.06 2.06-.94-2.06-.94-.94-2.06-.94 2.06-2.06.94z\"/><path d=\"M17.41 7.96l-1.37-1.37c-.4-.4-.92-.59-1.43-.59-.52 0-1.04.2-1.43.59L10.3 9.45l-7.72 7.72c-.78.78-.78 2.05 0 2.83L4 21.41c.39.39.9.59 1.41.59.51 0 1.02-.2 1.41-.59l7.78-7.78 2.81-2.81c.8-.78.8-2.07 0-2.86zM5.41 20L4 18.59l7.72-7.72 1.47 1.35L5.41 20z\"/>\n",
              "  </svg>\n",
              "      </button>\n",
              "      \n",
              "  <style>\n",
              "    .colab-df-container {\n",
              "      display:flex;\n",
              "      flex-wrap:wrap;\n",
              "      gap: 12px;\n",
              "    }\n",
              "\n",
              "    .colab-df-convert {\n",
              "      background-color: #E8F0FE;\n",
              "      border: none;\n",
              "      border-radius: 50%;\n",
              "      cursor: pointer;\n",
              "      display: none;\n",
              "      fill: #1967D2;\n",
              "      height: 32px;\n",
              "      padding: 0 0 0 0;\n",
              "      width: 32px;\n",
              "    }\n",
              "\n",
              "    .colab-df-convert:hover {\n",
              "      background-color: #E2EBFA;\n",
              "      box-shadow: 0px 1px 2px rgba(60, 64, 67, 0.3), 0px 1px 3px 1px rgba(60, 64, 67, 0.15);\n",
              "      fill: #174EA6;\n",
              "    }\n",
              "\n",
              "    [theme=dark] .colab-df-convert {\n",
              "      background-color: #3B4455;\n",
              "      fill: #D2E3FC;\n",
              "    }\n",
              "\n",
              "    [theme=dark] .colab-df-convert:hover {\n",
              "      background-color: #434B5C;\n",
              "      box-shadow: 0px 1px 3px 1px rgba(0, 0, 0, 0.15);\n",
              "      filter: drop-shadow(0px 1px 2px rgba(0, 0, 0, 0.3));\n",
              "      fill: #FFFFFF;\n",
              "    }\n",
              "  </style>\n",
              "\n",
              "      <script>\n",
              "        const buttonEl =\n",
              "          document.querySelector('#df-a7dcdfa7-e00d-485a-bcaf-50063817aa45 button.colab-df-convert');\n",
              "        buttonEl.style.display =\n",
              "          google.colab.kernel.accessAllowed ? 'block' : 'none';\n",
              "\n",
              "        async function convertToInteractive(key) {\n",
              "          const element = document.querySelector('#df-a7dcdfa7-e00d-485a-bcaf-50063817aa45');\n",
              "          const dataTable =\n",
              "            await google.colab.kernel.invokeFunction('convertToInteractive',\n",
              "                                                     [key], {});\n",
              "          if (!dataTable) return;\n",
              "\n",
              "          const docLinkHtml = 'Like what you see? Visit the ' +\n",
              "            '<a target=\"_blank\" href=https://colab.research.google.com/notebooks/data_table.ipynb>data table notebook</a>'\n",
              "            + ' to learn more about interactive tables.';\n",
              "          element.innerHTML = '';\n",
              "          dataTable['output_type'] = 'display_data';\n",
              "          await google.colab.output.renderOutput(dataTable, element);\n",
              "          const docLink = document.createElement('div');\n",
              "          docLink.innerHTML = docLinkHtml;\n",
              "          element.appendChild(docLink);\n",
              "        }\n",
              "      </script>\n",
              "    </div>\n",
              "  </div>\n",
              "  "
            ]
          },
          "metadata": {},
          "execution_count": 55
        }
      ]
    },
    {
      "cell_type": "code",
      "source": [
        "test = pd.read_csv(path + 'test.csv')\n",
        "test_id = test['Id']\n",
        "test.drop(['Id'], axis=1, inplace=True)\n",
        "test.head()"
      ],
      "metadata": {
        "colab": {
          "base_uri": "https://localhost:8080/",
          "height": 299
        },
        "id": "pvyo4yiyGYt4",
        "outputId": "259bc05e-5f74-4e67-fc84-3e0020fafa1a"
      },
      "execution_count": null,
      "outputs": [
        {
          "output_type": "execute_result",
          "data": {
            "text/plain": [
              "   MSSubClass MSZoning  LotFrontage  LotArea Street Alley LotShape  \\\n",
              "0          20       RH       80.000    11622   Pave   NaN      Reg   \n",
              "1          20       RL       81.000    14267   Pave   NaN      IR1   \n",
              "2          60       RL       74.000    13830   Pave   NaN      IR1   \n",
              "3          60       RL       78.000     9978   Pave   NaN      IR1   \n",
              "4         120       RL       43.000     5005   Pave   NaN      IR1   \n",
              "\n",
              "  LandContour Utilities LotConfig  ... ScreenPorch PoolArea PoolQC  Fence  \\\n",
              "0         Lvl    AllPub    Inside  ...         120        0    NaN  MnPrv   \n",
              "1         Lvl    AllPub    Corner  ...           0        0    NaN    NaN   \n",
              "2         Lvl    AllPub    Inside  ...           0        0    NaN  MnPrv   \n",
              "3         Lvl    AllPub    Inside  ...           0        0    NaN    NaN   \n",
              "4         HLS    AllPub    Inside  ...         144        0    NaN    NaN   \n",
              "\n",
              "  MiscFeature MiscVal  MoSold  YrSold  SaleType  SaleCondition  \n",
              "0         NaN       0       6    2010        WD         Normal  \n",
              "1        Gar2   12500       6    2010        WD         Normal  \n",
              "2         NaN       0       3    2010        WD         Normal  \n",
              "3         NaN       0       6    2010        WD         Normal  \n",
              "4         NaN       0       1    2010        WD         Normal  \n",
              "\n",
              "[5 rows x 79 columns]"
            ],
            "text/html": [
              "\n",
              "  <div id=\"df-31dc340f-3e05-4d1e-b26e-fc58ca68ad66\">\n",
              "    <div class=\"colab-df-container\">\n",
              "      <div>\n",
              "<style scoped>\n",
              "    .dataframe tbody tr th:only-of-type {\n",
              "        vertical-align: middle;\n",
              "    }\n",
              "\n",
              "    .dataframe tbody tr th {\n",
              "        vertical-align: top;\n",
              "    }\n",
              "\n",
              "    .dataframe thead th {\n",
              "        text-align: right;\n",
              "    }\n",
              "</style>\n",
              "<table border=\"1\" class=\"dataframe\">\n",
              "  <thead>\n",
              "    <tr style=\"text-align: right;\">\n",
              "      <th></th>\n",
              "      <th>MSSubClass</th>\n",
              "      <th>MSZoning</th>\n",
              "      <th>LotFrontage</th>\n",
              "      <th>LotArea</th>\n",
              "      <th>Street</th>\n",
              "      <th>Alley</th>\n",
              "      <th>LotShape</th>\n",
              "      <th>LandContour</th>\n",
              "      <th>Utilities</th>\n",
              "      <th>LotConfig</th>\n",
              "      <th>...</th>\n",
              "      <th>ScreenPorch</th>\n",
              "      <th>PoolArea</th>\n",
              "      <th>PoolQC</th>\n",
              "      <th>Fence</th>\n",
              "      <th>MiscFeature</th>\n",
              "      <th>MiscVal</th>\n",
              "      <th>MoSold</th>\n",
              "      <th>YrSold</th>\n",
              "      <th>SaleType</th>\n",
              "      <th>SaleCondition</th>\n",
              "    </tr>\n",
              "  </thead>\n",
              "  <tbody>\n",
              "    <tr>\n",
              "      <th>0</th>\n",
              "      <td>20</td>\n",
              "      <td>RH</td>\n",
              "      <td>80.000</td>\n",
              "      <td>11622</td>\n",
              "      <td>Pave</td>\n",
              "      <td>NaN</td>\n",
              "      <td>Reg</td>\n",
              "      <td>Lvl</td>\n",
              "      <td>AllPub</td>\n",
              "      <td>Inside</td>\n",
              "      <td>...</td>\n",
              "      <td>120</td>\n",
              "      <td>0</td>\n",
              "      <td>NaN</td>\n",
              "      <td>MnPrv</td>\n",
              "      <td>NaN</td>\n",
              "      <td>0</td>\n",
              "      <td>6</td>\n",
              "      <td>2010</td>\n",
              "      <td>WD</td>\n",
              "      <td>Normal</td>\n",
              "    </tr>\n",
              "    <tr>\n",
              "      <th>1</th>\n",
              "      <td>20</td>\n",
              "      <td>RL</td>\n",
              "      <td>81.000</td>\n",
              "      <td>14267</td>\n",
              "      <td>Pave</td>\n",
              "      <td>NaN</td>\n",
              "      <td>IR1</td>\n",
              "      <td>Lvl</td>\n",
              "      <td>AllPub</td>\n",
              "      <td>Corner</td>\n",
              "      <td>...</td>\n",
              "      <td>0</td>\n",
              "      <td>0</td>\n",
              "      <td>NaN</td>\n",
              "      <td>NaN</td>\n",
              "      <td>Gar2</td>\n",
              "      <td>12500</td>\n",
              "      <td>6</td>\n",
              "      <td>2010</td>\n",
              "      <td>WD</td>\n",
              "      <td>Normal</td>\n",
              "    </tr>\n",
              "    <tr>\n",
              "      <th>2</th>\n",
              "      <td>60</td>\n",
              "      <td>RL</td>\n",
              "      <td>74.000</td>\n",
              "      <td>13830</td>\n",
              "      <td>Pave</td>\n",
              "      <td>NaN</td>\n",
              "      <td>IR1</td>\n",
              "      <td>Lvl</td>\n",
              "      <td>AllPub</td>\n",
              "      <td>Inside</td>\n",
              "      <td>...</td>\n",
              "      <td>0</td>\n",
              "      <td>0</td>\n",
              "      <td>NaN</td>\n",
              "      <td>MnPrv</td>\n",
              "      <td>NaN</td>\n",
              "      <td>0</td>\n",
              "      <td>3</td>\n",
              "      <td>2010</td>\n",
              "      <td>WD</td>\n",
              "      <td>Normal</td>\n",
              "    </tr>\n",
              "    <tr>\n",
              "      <th>3</th>\n",
              "      <td>60</td>\n",
              "      <td>RL</td>\n",
              "      <td>78.000</td>\n",
              "      <td>9978</td>\n",
              "      <td>Pave</td>\n",
              "      <td>NaN</td>\n",
              "      <td>IR1</td>\n",
              "      <td>Lvl</td>\n",
              "      <td>AllPub</td>\n",
              "      <td>Inside</td>\n",
              "      <td>...</td>\n",
              "      <td>0</td>\n",
              "      <td>0</td>\n",
              "      <td>NaN</td>\n",
              "      <td>NaN</td>\n",
              "      <td>NaN</td>\n",
              "      <td>0</td>\n",
              "      <td>6</td>\n",
              "      <td>2010</td>\n",
              "      <td>WD</td>\n",
              "      <td>Normal</td>\n",
              "    </tr>\n",
              "    <tr>\n",
              "      <th>4</th>\n",
              "      <td>120</td>\n",
              "      <td>RL</td>\n",
              "      <td>43.000</td>\n",
              "      <td>5005</td>\n",
              "      <td>Pave</td>\n",
              "      <td>NaN</td>\n",
              "      <td>IR1</td>\n",
              "      <td>HLS</td>\n",
              "      <td>AllPub</td>\n",
              "      <td>Inside</td>\n",
              "      <td>...</td>\n",
              "      <td>144</td>\n",
              "      <td>0</td>\n",
              "      <td>NaN</td>\n",
              "      <td>NaN</td>\n",
              "      <td>NaN</td>\n",
              "      <td>0</td>\n",
              "      <td>1</td>\n",
              "      <td>2010</td>\n",
              "      <td>WD</td>\n",
              "      <td>Normal</td>\n",
              "    </tr>\n",
              "  </tbody>\n",
              "</table>\n",
              "<p>5 rows × 79 columns</p>\n",
              "</div>\n",
              "      <button class=\"colab-df-convert\" onclick=\"convertToInteractive('df-31dc340f-3e05-4d1e-b26e-fc58ca68ad66')\"\n",
              "              title=\"Convert this dataframe to an interactive table.\"\n",
              "              style=\"display:none;\">\n",
              "        \n",
              "  <svg xmlns=\"http://www.w3.org/2000/svg\" height=\"24px\"viewBox=\"0 0 24 24\"\n",
              "       width=\"24px\">\n",
              "    <path d=\"M0 0h24v24H0V0z\" fill=\"none\"/>\n",
              "    <path d=\"M18.56 5.44l.94 2.06.94-2.06 2.06-.94-2.06-.94-.94-2.06-.94 2.06-2.06.94zm-11 1L8.5 8.5l.94-2.06 2.06-.94-2.06-.94L8.5 2.5l-.94 2.06-2.06.94zm10 10l.94 2.06.94-2.06 2.06-.94-2.06-.94-.94-2.06-.94 2.06-2.06.94z\"/><path d=\"M17.41 7.96l-1.37-1.37c-.4-.4-.92-.59-1.43-.59-.52 0-1.04.2-1.43.59L10.3 9.45l-7.72 7.72c-.78.78-.78 2.05 0 2.83L4 21.41c.39.39.9.59 1.41.59.51 0 1.02-.2 1.41-.59l7.78-7.78 2.81-2.81c.8-.78.8-2.07 0-2.86zM5.41 20L4 18.59l7.72-7.72 1.47 1.35L5.41 20z\"/>\n",
              "  </svg>\n",
              "      </button>\n",
              "      \n",
              "  <style>\n",
              "    .colab-df-container {\n",
              "      display:flex;\n",
              "      flex-wrap:wrap;\n",
              "      gap: 12px;\n",
              "    }\n",
              "\n",
              "    .colab-df-convert {\n",
              "      background-color: #E8F0FE;\n",
              "      border: none;\n",
              "      border-radius: 50%;\n",
              "      cursor: pointer;\n",
              "      display: none;\n",
              "      fill: #1967D2;\n",
              "      height: 32px;\n",
              "      padding: 0 0 0 0;\n",
              "      width: 32px;\n",
              "    }\n",
              "\n",
              "    .colab-df-convert:hover {\n",
              "      background-color: #E2EBFA;\n",
              "      box-shadow: 0px 1px 2px rgba(60, 64, 67, 0.3), 0px 1px 3px 1px rgba(60, 64, 67, 0.15);\n",
              "      fill: #174EA6;\n",
              "    }\n",
              "\n",
              "    [theme=dark] .colab-df-convert {\n",
              "      background-color: #3B4455;\n",
              "      fill: #D2E3FC;\n",
              "    }\n",
              "\n",
              "    [theme=dark] .colab-df-convert:hover {\n",
              "      background-color: #434B5C;\n",
              "      box-shadow: 0px 1px 3px 1px rgba(0, 0, 0, 0.15);\n",
              "      filter: drop-shadow(0px 1px 2px rgba(0, 0, 0, 0.3));\n",
              "      fill: #FFFFFF;\n",
              "    }\n",
              "  </style>\n",
              "\n",
              "      <script>\n",
              "        const buttonEl =\n",
              "          document.querySelector('#df-31dc340f-3e05-4d1e-b26e-fc58ca68ad66 button.colab-df-convert');\n",
              "        buttonEl.style.display =\n",
              "          google.colab.kernel.accessAllowed ? 'block' : 'none';\n",
              "\n",
              "        async function convertToInteractive(key) {\n",
              "          const element = document.querySelector('#df-31dc340f-3e05-4d1e-b26e-fc58ca68ad66');\n",
              "          const dataTable =\n",
              "            await google.colab.kernel.invokeFunction('convertToInteractive',\n",
              "                                                     [key], {});\n",
              "          if (!dataTable) return;\n",
              "\n",
              "          const docLinkHtml = 'Like what you see? Visit the ' +\n",
              "            '<a target=\"_blank\" href=https://colab.research.google.com/notebooks/data_table.ipynb>data table notebook</a>'\n",
              "            + ' to learn more about interactive tables.';\n",
              "          element.innerHTML = '';\n",
              "          dataTable['output_type'] = 'display_data';\n",
              "          await google.colab.output.renderOutput(dataTable, element);\n",
              "          const docLink = document.createElement('div');\n",
              "          docLink.innerHTML = docLinkHtml;\n",
              "          element.appendChild(docLink);\n",
              "        }\n",
              "      </script>\n",
              "    </div>\n",
              "  </div>\n",
              "  "
            ]
          },
          "metadata": {},
          "execution_count": 56
        }
      ]
    },
    {
      "cell_type": "code",
      "source": [
        "print(f\"Tamanho do treino: {len(train)}\")\n",
        "print(f\"Tamanho do teste: {len(test)}\")"
      ],
      "metadata": {
        "colab": {
          "base_uri": "https://localhost:8080/"
        },
        "id": "bhiPsk4QXtVY",
        "outputId": "5f899238-127e-454b-de10-6a45391835d8"
      },
      "execution_count": null,
      "outputs": [
        {
          "output_type": "stream",
          "name": "stdout",
          "text": [
            "Tamanho do treino: 1460\n",
            "Tamanho do teste: 1459\n"
          ]
        }
      ]
    },
    {
      "cell_type": "markdown",
      "source": [
        "Minhas interpretações sobre as features e algumas observações."
      ],
      "metadata": {
        "id": "TwQaK28AH0of"
      }
    },
    {
      "cell_type": "code",
      "source": [
        "my_obs = pd.read_csv(path + 'Avaliação das features do Ames Dataset.csv')\n",
        "my_obs"
      ],
      "metadata": {
        "colab": {
          "base_uri": "https://localhost:8080/",
          "height": 1000
        },
        "id": "UR6X_LnPGdcU",
        "outputId": "bdbf9760-e5f7-4dbd-b9b8-93f6a1f3d1e7"
      },
      "execution_count": null,
      "outputs": [
        {
          "output_type": "execute_result",
          "data": {
            "text/plain": [
              "         Feature      Tipo      Segmento  \\\n",
              "0      MSSubClass    int64   construção    \n",
              "1        MSZoning   object  localização    \n",
              "2     LotFrontage  float64       espaço    \n",
              "3         LotArea    int64       espaço    \n",
              "4          Street   object  localização    \n",
              "5           Alley   object   construção    \n",
              "6        LotShape   object   construção    \n",
              "7     LandContour   object   construção    \n",
              "8       Utilities   object   construção    \n",
              "9       LotConfig   object   construção    \n",
              "10      LandSlope   object   construção    \n",
              "11   Neighborhood   object  localização    \n",
              "12     Condition1   object  localização    \n",
              "13     Condition2   object  localização    \n",
              "14       BldgType   object   construção    \n",
              "15     HouseStyle   object   construção    \n",
              "16    OverallQual    int64   construção    \n",
              "17    OverallCond    int64   construção    \n",
              "18      YearBuilt    int64   construção    \n",
              "19   YearRemodAdd    int64   construção    \n",
              "20      RoofStyle   object   construção    \n",
              "21       RoofMatl   object   construção    \n",
              "22    Exterior1st   object   construção    \n",
              "23    Exterior2nd   object   construção    \n",
              "24     MasVnrType   object   construção    \n",
              "25     MasVnrArea  float64       espaço    \n",
              "26      ExterQual   object   construção    \n",
              "27      ExterCond   object   construção    \n",
              "28     Foundation   object   construção    \n",
              "29       BsmtQual   object   construção    \n",
              "30       BsmtCond   object   construção    \n",
              "31   BsmtExposure   object   construção    \n",
              "32   BsmtFinType1   object   construção    \n",
              "33     BsmtFinSF1    int64       espaço    \n",
              "34   BsmtFinType2   object   construção    \n",
              "35     BsmtFinSF2    int64       espaço    \n",
              "36      BsmtUnfSF    int64       espaço    \n",
              "37    TotalBsmtSF    int64       espaço    \n",
              "38        Heating   object   construção    \n",
              "39      HeatingQC   object   construção    \n",
              "40     CentralAir   object   construção    \n",
              "41     Electrical   object   construção    \n",
              "42       1stFlrSF    int64       espaço    \n",
              "43       2ndFlrSF    int64       espaço    \n",
              "44   LowQualFinSF    int64   construção    \n",
              "45      GrLivArea    int64       espaço    \n",
              "46   BsmtFullBath    int64   construção    \n",
              "47   BsmtHalfBath    int64   construção    \n",
              "48       FullBath    int64       espaço    \n",
              "49       HalfBath    int64       espaço    \n",
              "50   BedroomAbvGr    int64   construção    \n",
              "51   KitchenAbvGr    int64   construção    \n",
              "52    KitchenQual   object   construção    \n",
              "53   TotRmsAbvGrd    int64       espaço    \n",
              "54     Functional   object   construção    \n",
              "55     Fireplaces    int64   construção    \n",
              "56    FireplaceQu   object   construção    \n",
              "57     GarageType   object       espaço    \n",
              "58    GarageYrBlt  float64   construção    \n",
              "59   GarageFinish   object   construção    \n",
              "60     GarageCars    int64       espaço    \n",
              "61     GarageArea    int64       espaço    \n",
              "62     GarageQual   object   construção    \n",
              "63     GarageCond   object   construção    \n",
              "64     PavedDrive   object   construção    \n",
              "65     WoodDeckSF    int64       espaço    \n",
              "66    OpenPorchSF    int64       espaço    \n",
              "67  EnclosedPorch    int64       espaço    \n",
              "68      3SsnPorch    int64       espaço    \n",
              "69    ScreenPorch    int64       espaço    \n",
              "70       PoolArea    int64       espaço    \n",
              "71         PoolQC   object   construção    \n",
              "72          Fence   object   construção    \n",
              "73    MiscFeature   object   construção    \n",
              "74        MiscVal    int64   construção    \n",
              "75         MoSold    int64         venda   \n",
              "76         YrSold    int64         venda   \n",
              "77       SaleType   object         venda   \n",
              "78  SaleCondition   object         venda   \n",
              "79      SalePrice    int64         venda   \n",
              "\n",
              "                                              O que é  \\\n",
              "0             como a casa foi descrita ao ser vendida   \n",
              "1                                zona urbana ou rural   \n",
              "2                                  tamanho da faixada   \n",
              "3                                    área do terreno    \n",
              "4                                se a rua é asfaltada   \n",
              "5                         corredor pra entrar na casa   \n",
              "6                                     formato da casa   \n",
              "7                                       terraplanagem   \n",
              "8          acesso a serviços básicos (luz, água, etc)   \n",
              "9                              se tem mais uma frente   \n",
              "10                           se o terreno é inclinado   \n",
              "11                                             bairro   \n",
              "12                      perto de certas saídas e ruas   \n",
              "13                         se tiver mais de uma saída   \n",
              "14  tipo de habilitação baseado no tamanho da famí...   \n",
              "15                    basicamente quantos andares tem   \n",
              "16            nota para qualidade do material da casa   \n",
              "17                    nota para a conservação da casa   \n",
              "18                                  ano de construção   \n",
              "19  ano de reforma. Se não houve o ano é igual ao ...   \n",
              "20                                formato do telhado    \n",
              "21                                material do telhado   \n",
              "22                                  paredes externas    \n",
              "23          quando há dois tipos de paredes externas    \n",
              "24                                 tipo de alvenaria    \n",
              "25                                área com alvenaria    \n",
              "26        qualidade do material das paredes externas    \n",
              "27                  conservação das paredes externas    \n",
              "28                                       tipo de piso   \n",
              "29                                   altura do porão    \n",
              "30                     avalia a conservação do porão    \n",
              "31            se o porão fica acima do solo e quanto    \n",
              "32             avalia a condição de moradia do porão    \n",
              "33                                     área do porão    \n",
              "34  avalia a condição de moradia de um \"segundo\" p...   \n",
              "35                           área do \"segundo\" porão    \n",
              "36                           área inacabada do porão    \n",
              "37                               área total do porão    \n",
              "38                             método de aquecimento    \n",
              "39                          qualidade do aquecimento    \n",
              "40                           circulação de ar da casa   \n",
              "41                           tipo de fiação elétrica    \n",
              "42                             área do primeiro andar   \n",
              "43                              área do segundo andar   \n",
              "44             área total do piso de baixa qualidade    \n",
              "45             área total de moradia, excluído porão    \n",
              "46         quantidade de banheiros completos no porão   \n",
              "47            quantidade de meio - banheiros no porão   \n",
              "48    quantidade de banheiros completos acima do solo   \n",
              "49       quantidade de meio - banheiros acima do solo   \n",
              "50                quantidade de quartos acima do solo   \n",
              "51               quantidade de cozinhas acima do solo   \n",
              "52                               qualidade da cozinha   \n",
              "53                quantidade de quartos acima do solo   \n",
              "54                deduções no preço por danos na casa   \n",
              "55                             quantidade de lareiras   \n",
              "56                       qualidade geral das lareiras   \n",
              "57                               onde fica a garagem    \n",
              "58                      ano de construção da garagem    \n",
              "59                      acabamento interno da garagem   \n",
              "60                   quantos carros cabem na garagem    \n",
              "61                                   área da garagem    \n",
              "62                              qualidade da garagem    \n",
              "63                            conservação da garagem    \n",
              "64              se a entrada da garagem é pavimentada   \n",
              "65           área do deck (aquela varanda de madeira)   \n",
              "66                            área de varanda aberta    \n",
              "67                           área de varanda fechada    \n",
              "68                         área de varanda 3 Seasons    \n",
              "69                       área de varanda com vidraça    \n",
              "70                                   área da piscina    \n",
              "71                              qualidade da piscina    \n",
              "72                              qualidade do cercado    \n",
              "73  se tem coisas como elevador, quadra de tênis, ...   \n",
              "74                      valor das coisas extras acima   \n",
              "75                                       mês de venda   \n",
              "76                                      ano de venda    \n",
              "77                                 forma de pagamento   \n",
              "78                                   como foi a venda   \n",
              "79                                         nosso alvo   \n",
              "\n",
              "                                         Observações   \n",
              "0                              deveria ser categórica  \n",
              "1                                                 NaN  \n",
              "2                                                 NaN  \n",
              "3                                                 NaN  \n",
              "4                                                 NaN  \n",
              "5                                                 NaN  \n",
              "6                                                 NaN  \n",
              "7                                                 NaN  \n",
              "8                                                 NaN  \n",
              "9                                                 NaN  \n",
              "10                           praticamente LandContour  \n",
              "11                                                NaN  \n",
              "12                                                NaN  \n",
              "13                                                NaN  \n",
              "14                                                NaN  \n",
              "15                                                NaN  \n",
              "16                                                NaN  \n",
              "17                                                NaN  \n",
              "18                            deveria ser categórica   \n",
              "19                             deveria ser categórica  \n",
              "20                                                NaN  \n",
              "21                                                NaN  \n",
              "22                                                NaN  \n",
              "23                                                NaN  \n",
              "24                                                NaN  \n",
              "25                                                NaN  \n",
              "26                               deveria ser uma nota  \n",
              "27                                                NaN  \n",
              "28                                                NaN  \n",
              "29                              deveria ser numérica   \n",
              "30                               deveria ser numérica  \n",
              "31  não dá pra ser numérica, por ser uma medição s...  \n",
              "32                                                NaN  \n",
              "33                                                NaN  \n",
              "34                      deveria ser tudo um porão só   \n",
              "35                     deveria ser a soma dos porões   \n",
              "36            se > 0, BsmtFinType1 == Unf (verificar)  \n",
              "37                             eis a soma dos porões   \n",
              "38                                                NaN  \n",
              "39                                                NaN  \n",
              "40                                                NaN  \n",
              "41                                                NaN  \n",
              "42                                                NaN  \n",
              "43                                                NaN  \n",
              "44                                                NaN  \n",
              "45                                                NaN  \n",
              "46        completo deve ser com lugar de tomar banho   \n",
              "47            meio deve ser sem lugar de tomar banho   \n",
              "48        completo deve ser com lugar de tomar banho   \n",
              "49            meio deve ser sem lugar de tomar banho   \n",
              "50                                                NaN  \n",
              "51                                                NaN  \n",
              "52                           deveria ser qualitativa   \n",
              "53                                                NaN  \n",
              "54  deve ter correlação. o problema é que a maiori...  \n",
              "55                                                NaN  \n",
              "56                                                NaN  \n",
              "57                                                NaN  \n",
              "58                            deveria ser categórica   \n",
              "59                                                NaN  \n",
              "60        desnecessário por termos a área da garagem   \n",
              "61                                                NaN  \n",
              "62                              deveria ser numérica   \n",
              "63                              deveria ser numérica   \n",
              "64                                                NaN  \n",
              "65                                     0 se não tiver  \n",
              "66                                     0 se não tiver  \n",
              "67                                     0 se não tiver  \n",
              "68                                     0 se não tiver  \n",
              "69                                     0 se não tiver  \n",
              "70                                     0 se não tiver  \n",
              "71                              deveria ser numérica   \n",
              "72  não dá pra ser numérica por dividir a qualific...  \n",
              "73                            vai ter um monte de NaN  \n",
              "74                                                NaN  \n",
              "75                                                NaN  \n",
              "76                                                NaN  \n",
              "77                                                NaN  \n",
              "78                                                NaN  \n",
              "79                                                NaN  "
            ],
            "text/html": [
              "\n",
              "  <div id=\"df-9a48a102-7cac-45d5-a656-bd9256d28369\">\n",
              "    <div class=\"colab-df-container\">\n",
              "      <div>\n",
              "<style scoped>\n",
              "    .dataframe tbody tr th:only-of-type {\n",
              "        vertical-align: middle;\n",
              "    }\n",
              "\n",
              "    .dataframe tbody tr th {\n",
              "        vertical-align: top;\n",
              "    }\n",
              "\n",
              "    .dataframe thead th {\n",
              "        text-align: right;\n",
              "    }\n",
              "</style>\n",
              "<table border=\"1\" class=\"dataframe\">\n",
              "  <thead>\n",
              "    <tr style=\"text-align: right;\">\n",
              "      <th></th>\n",
              "      <th>Feature</th>\n",
              "      <th>Tipo</th>\n",
              "      <th>Segmento</th>\n",
              "      <th>O que é</th>\n",
              "      <th>Observações</th>\n",
              "    </tr>\n",
              "  </thead>\n",
              "  <tbody>\n",
              "    <tr>\n",
              "      <th>0</th>\n",
              "      <td>MSSubClass</td>\n",
              "      <td>int64</td>\n",
              "      <td>construção</td>\n",
              "      <td>como a casa foi descrita ao ser vendida</td>\n",
              "      <td>deveria ser categórica</td>\n",
              "    </tr>\n",
              "    <tr>\n",
              "      <th>1</th>\n",
              "      <td>MSZoning</td>\n",
              "      <td>object</td>\n",
              "      <td>localização</td>\n",
              "      <td>zona urbana ou rural</td>\n",
              "      <td>NaN</td>\n",
              "    </tr>\n",
              "    <tr>\n",
              "      <th>2</th>\n",
              "      <td>LotFrontage</td>\n",
              "      <td>float64</td>\n",
              "      <td>espaço</td>\n",
              "      <td>tamanho da faixada</td>\n",
              "      <td>NaN</td>\n",
              "    </tr>\n",
              "    <tr>\n",
              "      <th>3</th>\n",
              "      <td>LotArea</td>\n",
              "      <td>int64</td>\n",
              "      <td>espaço</td>\n",
              "      <td>área do terreno</td>\n",
              "      <td>NaN</td>\n",
              "    </tr>\n",
              "    <tr>\n",
              "      <th>4</th>\n",
              "      <td>Street</td>\n",
              "      <td>object</td>\n",
              "      <td>localização</td>\n",
              "      <td>se a rua é asfaltada</td>\n",
              "      <td>NaN</td>\n",
              "    </tr>\n",
              "    <tr>\n",
              "      <th>5</th>\n",
              "      <td>Alley</td>\n",
              "      <td>object</td>\n",
              "      <td>construção</td>\n",
              "      <td>corredor pra entrar na casa</td>\n",
              "      <td>NaN</td>\n",
              "    </tr>\n",
              "    <tr>\n",
              "      <th>6</th>\n",
              "      <td>LotShape</td>\n",
              "      <td>object</td>\n",
              "      <td>construção</td>\n",
              "      <td>formato da casa</td>\n",
              "      <td>NaN</td>\n",
              "    </tr>\n",
              "    <tr>\n",
              "      <th>7</th>\n",
              "      <td>LandContour</td>\n",
              "      <td>object</td>\n",
              "      <td>construção</td>\n",
              "      <td>terraplanagem</td>\n",
              "      <td>NaN</td>\n",
              "    </tr>\n",
              "    <tr>\n",
              "      <th>8</th>\n",
              "      <td>Utilities</td>\n",
              "      <td>object</td>\n",
              "      <td>construção</td>\n",
              "      <td>acesso a serviços básicos (luz, água, etc)</td>\n",
              "      <td>NaN</td>\n",
              "    </tr>\n",
              "    <tr>\n",
              "      <th>9</th>\n",
              "      <td>LotConfig</td>\n",
              "      <td>object</td>\n",
              "      <td>construção</td>\n",
              "      <td>se tem mais uma frente</td>\n",
              "      <td>NaN</td>\n",
              "    </tr>\n",
              "    <tr>\n",
              "      <th>10</th>\n",
              "      <td>LandSlope</td>\n",
              "      <td>object</td>\n",
              "      <td>construção</td>\n",
              "      <td>se o terreno é inclinado</td>\n",
              "      <td>praticamente LandContour</td>\n",
              "    </tr>\n",
              "    <tr>\n",
              "      <th>11</th>\n",
              "      <td>Neighborhood</td>\n",
              "      <td>object</td>\n",
              "      <td>localização</td>\n",
              "      <td>bairro</td>\n",
              "      <td>NaN</td>\n",
              "    </tr>\n",
              "    <tr>\n",
              "      <th>12</th>\n",
              "      <td>Condition1</td>\n",
              "      <td>object</td>\n",
              "      <td>localização</td>\n",
              "      <td>perto de certas saídas e ruas</td>\n",
              "      <td>NaN</td>\n",
              "    </tr>\n",
              "    <tr>\n",
              "      <th>13</th>\n",
              "      <td>Condition2</td>\n",
              "      <td>object</td>\n",
              "      <td>localização</td>\n",
              "      <td>se tiver mais de uma saída</td>\n",
              "      <td>NaN</td>\n",
              "    </tr>\n",
              "    <tr>\n",
              "      <th>14</th>\n",
              "      <td>BldgType</td>\n",
              "      <td>object</td>\n",
              "      <td>construção</td>\n",
              "      <td>tipo de habilitação baseado no tamanho da famí...</td>\n",
              "      <td>NaN</td>\n",
              "    </tr>\n",
              "    <tr>\n",
              "      <th>15</th>\n",
              "      <td>HouseStyle</td>\n",
              "      <td>object</td>\n",
              "      <td>construção</td>\n",
              "      <td>basicamente quantos andares tem</td>\n",
              "      <td>NaN</td>\n",
              "    </tr>\n",
              "    <tr>\n",
              "      <th>16</th>\n",
              "      <td>OverallQual</td>\n",
              "      <td>int64</td>\n",
              "      <td>construção</td>\n",
              "      <td>nota para qualidade do material da casa</td>\n",
              "      <td>NaN</td>\n",
              "    </tr>\n",
              "    <tr>\n",
              "      <th>17</th>\n",
              "      <td>OverallCond</td>\n",
              "      <td>int64</td>\n",
              "      <td>construção</td>\n",
              "      <td>nota para a conservação da casa</td>\n",
              "      <td>NaN</td>\n",
              "    </tr>\n",
              "    <tr>\n",
              "      <th>18</th>\n",
              "      <td>YearBuilt</td>\n",
              "      <td>int64</td>\n",
              "      <td>construção</td>\n",
              "      <td>ano de construção</td>\n",
              "      <td>deveria ser categórica</td>\n",
              "    </tr>\n",
              "    <tr>\n",
              "      <th>19</th>\n",
              "      <td>YearRemodAdd</td>\n",
              "      <td>int64</td>\n",
              "      <td>construção</td>\n",
              "      <td>ano de reforma. Se não houve o ano é igual ao ...</td>\n",
              "      <td>deveria ser categórica</td>\n",
              "    </tr>\n",
              "    <tr>\n",
              "      <th>20</th>\n",
              "      <td>RoofStyle</td>\n",
              "      <td>object</td>\n",
              "      <td>construção</td>\n",
              "      <td>formato do telhado</td>\n",
              "      <td>NaN</td>\n",
              "    </tr>\n",
              "    <tr>\n",
              "      <th>21</th>\n",
              "      <td>RoofMatl</td>\n",
              "      <td>object</td>\n",
              "      <td>construção</td>\n",
              "      <td>material do telhado</td>\n",
              "      <td>NaN</td>\n",
              "    </tr>\n",
              "    <tr>\n",
              "      <th>22</th>\n",
              "      <td>Exterior1st</td>\n",
              "      <td>object</td>\n",
              "      <td>construção</td>\n",
              "      <td>paredes externas</td>\n",
              "      <td>NaN</td>\n",
              "    </tr>\n",
              "    <tr>\n",
              "      <th>23</th>\n",
              "      <td>Exterior2nd</td>\n",
              "      <td>object</td>\n",
              "      <td>construção</td>\n",
              "      <td>quando há dois tipos de paredes externas</td>\n",
              "      <td>NaN</td>\n",
              "    </tr>\n",
              "    <tr>\n",
              "      <th>24</th>\n",
              "      <td>MasVnrType</td>\n",
              "      <td>object</td>\n",
              "      <td>construção</td>\n",
              "      <td>tipo de alvenaria</td>\n",
              "      <td>NaN</td>\n",
              "    </tr>\n",
              "    <tr>\n",
              "      <th>25</th>\n",
              "      <td>MasVnrArea</td>\n",
              "      <td>float64</td>\n",
              "      <td>espaço</td>\n",
              "      <td>área com alvenaria</td>\n",
              "      <td>NaN</td>\n",
              "    </tr>\n",
              "    <tr>\n",
              "      <th>26</th>\n",
              "      <td>ExterQual</td>\n",
              "      <td>object</td>\n",
              "      <td>construção</td>\n",
              "      <td>qualidade do material das paredes externas</td>\n",
              "      <td>deveria ser uma nota</td>\n",
              "    </tr>\n",
              "    <tr>\n",
              "      <th>27</th>\n",
              "      <td>ExterCond</td>\n",
              "      <td>object</td>\n",
              "      <td>construção</td>\n",
              "      <td>conservação das paredes externas</td>\n",
              "      <td>NaN</td>\n",
              "    </tr>\n",
              "    <tr>\n",
              "      <th>28</th>\n",
              "      <td>Foundation</td>\n",
              "      <td>object</td>\n",
              "      <td>construção</td>\n",
              "      <td>tipo de piso</td>\n",
              "      <td>NaN</td>\n",
              "    </tr>\n",
              "    <tr>\n",
              "      <th>29</th>\n",
              "      <td>BsmtQual</td>\n",
              "      <td>object</td>\n",
              "      <td>construção</td>\n",
              "      <td>altura do porão</td>\n",
              "      <td>deveria ser numérica</td>\n",
              "    </tr>\n",
              "    <tr>\n",
              "      <th>30</th>\n",
              "      <td>BsmtCond</td>\n",
              "      <td>object</td>\n",
              "      <td>construção</td>\n",
              "      <td>avalia a conservação do porão</td>\n",
              "      <td>deveria ser numérica</td>\n",
              "    </tr>\n",
              "    <tr>\n",
              "      <th>31</th>\n",
              "      <td>BsmtExposure</td>\n",
              "      <td>object</td>\n",
              "      <td>construção</td>\n",
              "      <td>se o porão fica acima do solo e quanto</td>\n",
              "      <td>não dá pra ser numérica, por ser uma medição s...</td>\n",
              "    </tr>\n",
              "    <tr>\n",
              "      <th>32</th>\n",
              "      <td>BsmtFinType1</td>\n",
              "      <td>object</td>\n",
              "      <td>construção</td>\n",
              "      <td>avalia a condição de moradia do porão</td>\n",
              "      <td>NaN</td>\n",
              "    </tr>\n",
              "    <tr>\n",
              "      <th>33</th>\n",
              "      <td>BsmtFinSF1</td>\n",
              "      <td>int64</td>\n",
              "      <td>espaço</td>\n",
              "      <td>área do porão</td>\n",
              "      <td>NaN</td>\n",
              "    </tr>\n",
              "    <tr>\n",
              "      <th>34</th>\n",
              "      <td>BsmtFinType2</td>\n",
              "      <td>object</td>\n",
              "      <td>construção</td>\n",
              "      <td>avalia a condição de moradia de um \"segundo\" p...</td>\n",
              "      <td>deveria ser tudo um porão só</td>\n",
              "    </tr>\n",
              "    <tr>\n",
              "      <th>35</th>\n",
              "      <td>BsmtFinSF2</td>\n",
              "      <td>int64</td>\n",
              "      <td>espaço</td>\n",
              "      <td>área do \"segundo\" porão</td>\n",
              "      <td>deveria ser a soma dos porões</td>\n",
              "    </tr>\n",
              "    <tr>\n",
              "      <th>36</th>\n",
              "      <td>BsmtUnfSF</td>\n",
              "      <td>int64</td>\n",
              "      <td>espaço</td>\n",
              "      <td>área inacabada do porão</td>\n",
              "      <td>se &gt; 0, BsmtFinType1 == Unf (verificar)</td>\n",
              "    </tr>\n",
              "    <tr>\n",
              "      <th>37</th>\n",
              "      <td>TotalBsmtSF</td>\n",
              "      <td>int64</td>\n",
              "      <td>espaço</td>\n",
              "      <td>área total do porão</td>\n",
              "      <td>eis a soma dos porões</td>\n",
              "    </tr>\n",
              "    <tr>\n",
              "      <th>38</th>\n",
              "      <td>Heating</td>\n",
              "      <td>object</td>\n",
              "      <td>construção</td>\n",
              "      <td>método de aquecimento</td>\n",
              "      <td>NaN</td>\n",
              "    </tr>\n",
              "    <tr>\n",
              "      <th>39</th>\n",
              "      <td>HeatingQC</td>\n",
              "      <td>object</td>\n",
              "      <td>construção</td>\n",
              "      <td>qualidade do aquecimento</td>\n",
              "      <td>NaN</td>\n",
              "    </tr>\n",
              "    <tr>\n",
              "      <th>40</th>\n",
              "      <td>CentralAir</td>\n",
              "      <td>object</td>\n",
              "      <td>construção</td>\n",
              "      <td>circulação de ar da casa</td>\n",
              "      <td>NaN</td>\n",
              "    </tr>\n",
              "    <tr>\n",
              "      <th>41</th>\n",
              "      <td>Electrical</td>\n",
              "      <td>object</td>\n",
              "      <td>construção</td>\n",
              "      <td>tipo de fiação elétrica</td>\n",
              "      <td>NaN</td>\n",
              "    </tr>\n",
              "    <tr>\n",
              "      <th>42</th>\n",
              "      <td>1stFlrSF</td>\n",
              "      <td>int64</td>\n",
              "      <td>espaço</td>\n",
              "      <td>área do primeiro andar</td>\n",
              "      <td>NaN</td>\n",
              "    </tr>\n",
              "    <tr>\n",
              "      <th>43</th>\n",
              "      <td>2ndFlrSF</td>\n",
              "      <td>int64</td>\n",
              "      <td>espaço</td>\n",
              "      <td>área do segundo andar</td>\n",
              "      <td>NaN</td>\n",
              "    </tr>\n",
              "    <tr>\n",
              "      <th>44</th>\n",
              "      <td>LowQualFinSF</td>\n",
              "      <td>int64</td>\n",
              "      <td>construção</td>\n",
              "      <td>área total do piso de baixa qualidade</td>\n",
              "      <td>NaN</td>\n",
              "    </tr>\n",
              "    <tr>\n",
              "      <th>45</th>\n",
              "      <td>GrLivArea</td>\n",
              "      <td>int64</td>\n",
              "      <td>espaço</td>\n",
              "      <td>área total de moradia, excluído porão</td>\n",
              "      <td>NaN</td>\n",
              "    </tr>\n",
              "    <tr>\n",
              "      <th>46</th>\n",
              "      <td>BsmtFullBath</td>\n",
              "      <td>int64</td>\n",
              "      <td>construção</td>\n",
              "      <td>quantidade de banheiros completos no porão</td>\n",
              "      <td>completo deve ser com lugar de tomar banho</td>\n",
              "    </tr>\n",
              "    <tr>\n",
              "      <th>47</th>\n",
              "      <td>BsmtHalfBath</td>\n",
              "      <td>int64</td>\n",
              "      <td>construção</td>\n",
              "      <td>quantidade de meio - banheiros no porão</td>\n",
              "      <td>meio deve ser sem lugar de tomar banho</td>\n",
              "    </tr>\n",
              "    <tr>\n",
              "      <th>48</th>\n",
              "      <td>FullBath</td>\n",
              "      <td>int64</td>\n",
              "      <td>espaço</td>\n",
              "      <td>quantidade de banheiros completos acima do solo</td>\n",
              "      <td>completo deve ser com lugar de tomar banho</td>\n",
              "    </tr>\n",
              "    <tr>\n",
              "      <th>49</th>\n",
              "      <td>HalfBath</td>\n",
              "      <td>int64</td>\n",
              "      <td>espaço</td>\n",
              "      <td>quantidade de meio - banheiros acima do solo</td>\n",
              "      <td>meio deve ser sem lugar de tomar banho</td>\n",
              "    </tr>\n",
              "    <tr>\n",
              "      <th>50</th>\n",
              "      <td>BedroomAbvGr</td>\n",
              "      <td>int64</td>\n",
              "      <td>construção</td>\n",
              "      <td>quantidade de quartos acima do solo</td>\n",
              "      <td>NaN</td>\n",
              "    </tr>\n",
              "    <tr>\n",
              "      <th>51</th>\n",
              "      <td>KitchenAbvGr</td>\n",
              "      <td>int64</td>\n",
              "      <td>construção</td>\n",
              "      <td>quantidade de cozinhas acima do solo</td>\n",
              "      <td>NaN</td>\n",
              "    </tr>\n",
              "    <tr>\n",
              "      <th>52</th>\n",
              "      <td>KitchenQual</td>\n",
              "      <td>object</td>\n",
              "      <td>construção</td>\n",
              "      <td>qualidade da cozinha</td>\n",
              "      <td>deveria ser qualitativa</td>\n",
              "    </tr>\n",
              "    <tr>\n",
              "      <th>53</th>\n",
              "      <td>TotRmsAbvGrd</td>\n",
              "      <td>int64</td>\n",
              "      <td>espaço</td>\n",
              "      <td>quantidade de quartos acima do solo</td>\n",
              "      <td>NaN</td>\n",
              "    </tr>\n",
              "    <tr>\n",
              "      <th>54</th>\n",
              "      <td>Functional</td>\n",
              "      <td>object</td>\n",
              "      <td>construção</td>\n",
              "      <td>deduções no preço por danos na casa</td>\n",
              "      <td>deve ter correlação. o problema é que a maiori...</td>\n",
              "    </tr>\n",
              "    <tr>\n",
              "      <th>55</th>\n",
              "      <td>Fireplaces</td>\n",
              "      <td>int64</td>\n",
              "      <td>construção</td>\n",
              "      <td>quantidade de lareiras</td>\n",
              "      <td>NaN</td>\n",
              "    </tr>\n",
              "    <tr>\n",
              "      <th>56</th>\n",
              "      <td>FireplaceQu</td>\n",
              "      <td>object</td>\n",
              "      <td>construção</td>\n",
              "      <td>qualidade geral das lareiras</td>\n",
              "      <td>NaN</td>\n",
              "    </tr>\n",
              "    <tr>\n",
              "      <th>57</th>\n",
              "      <td>GarageType</td>\n",
              "      <td>object</td>\n",
              "      <td>espaço</td>\n",
              "      <td>onde fica a garagem</td>\n",
              "      <td>NaN</td>\n",
              "    </tr>\n",
              "    <tr>\n",
              "      <th>58</th>\n",
              "      <td>GarageYrBlt</td>\n",
              "      <td>float64</td>\n",
              "      <td>construção</td>\n",
              "      <td>ano de construção da garagem</td>\n",
              "      <td>deveria ser categórica</td>\n",
              "    </tr>\n",
              "    <tr>\n",
              "      <th>59</th>\n",
              "      <td>GarageFinish</td>\n",
              "      <td>object</td>\n",
              "      <td>construção</td>\n",
              "      <td>acabamento interno da garagem</td>\n",
              "      <td>NaN</td>\n",
              "    </tr>\n",
              "    <tr>\n",
              "      <th>60</th>\n",
              "      <td>GarageCars</td>\n",
              "      <td>int64</td>\n",
              "      <td>espaço</td>\n",
              "      <td>quantos carros cabem na garagem</td>\n",
              "      <td>desnecessário por termos a área da garagem</td>\n",
              "    </tr>\n",
              "    <tr>\n",
              "      <th>61</th>\n",
              "      <td>GarageArea</td>\n",
              "      <td>int64</td>\n",
              "      <td>espaço</td>\n",
              "      <td>área da garagem</td>\n",
              "      <td>NaN</td>\n",
              "    </tr>\n",
              "    <tr>\n",
              "      <th>62</th>\n",
              "      <td>GarageQual</td>\n",
              "      <td>object</td>\n",
              "      <td>construção</td>\n",
              "      <td>qualidade da garagem</td>\n",
              "      <td>deveria ser numérica</td>\n",
              "    </tr>\n",
              "    <tr>\n",
              "      <th>63</th>\n",
              "      <td>GarageCond</td>\n",
              "      <td>object</td>\n",
              "      <td>construção</td>\n",
              "      <td>conservação da garagem</td>\n",
              "      <td>deveria ser numérica</td>\n",
              "    </tr>\n",
              "    <tr>\n",
              "      <th>64</th>\n",
              "      <td>PavedDrive</td>\n",
              "      <td>object</td>\n",
              "      <td>construção</td>\n",
              "      <td>se a entrada da garagem é pavimentada</td>\n",
              "      <td>NaN</td>\n",
              "    </tr>\n",
              "    <tr>\n",
              "      <th>65</th>\n",
              "      <td>WoodDeckSF</td>\n",
              "      <td>int64</td>\n",
              "      <td>espaço</td>\n",
              "      <td>área do deck (aquela varanda de madeira)</td>\n",
              "      <td>0 se não tiver</td>\n",
              "    </tr>\n",
              "    <tr>\n",
              "      <th>66</th>\n",
              "      <td>OpenPorchSF</td>\n",
              "      <td>int64</td>\n",
              "      <td>espaço</td>\n",
              "      <td>área de varanda aberta</td>\n",
              "      <td>0 se não tiver</td>\n",
              "    </tr>\n",
              "    <tr>\n",
              "      <th>67</th>\n",
              "      <td>EnclosedPorch</td>\n",
              "      <td>int64</td>\n",
              "      <td>espaço</td>\n",
              "      <td>área de varanda fechada</td>\n",
              "      <td>0 se não tiver</td>\n",
              "    </tr>\n",
              "    <tr>\n",
              "      <th>68</th>\n",
              "      <td>3SsnPorch</td>\n",
              "      <td>int64</td>\n",
              "      <td>espaço</td>\n",
              "      <td>área de varanda 3 Seasons</td>\n",
              "      <td>0 se não tiver</td>\n",
              "    </tr>\n",
              "    <tr>\n",
              "      <th>69</th>\n",
              "      <td>ScreenPorch</td>\n",
              "      <td>int64</td>\n",
              "      <td>espaço</td>\n",
              "      <td>área de varanda com vidraça</td>\n",
              "      <td>0 se não tiver</td>\n",
              "    </tr>\n",
              "    <tr>\n",
              "      <th>70</th>\n",
              "      <td>PoolArea</td>\n",
              "      <td>int64</td>\n",
              "      <td>espaço</td>\n",
              "      <td>área da piscina</td>\n",
              "      <td>0 se não tiver</td>\n",
              "    </tr>\n",
              "    <tr>\n",
              "      <th>71</th>\n",
              "      <td>PoolQC</td>\n",
              "      <td>object</td>\n",
              "      <td>construção</td>\n",
              "      <td>qualidade da piscina</td>\n",
              "      <td>deveria ser numérica</td>\n",
              "    </tr>\n",
              "    <tr>\n",
              "      <th>72</th>\n",
              "      <td>Fence</td>\n",
              "      <td>object</td>\n",
              "      <td>construção</td>\n",
              "      <td>qualidade do cercado</td>\n",
              "      <td>não dá pra ser numérica por dividir a qualific...</td>\n",
              "    </tr>\n",
              "    <tr>\n",
              "      <th>73</th>\n",
              "      <td>MiscFeature</td>\n",
              "      <td>object</td>\n",
              "      <td>construção</td>\n",
              "      <td>se tem coisas como elevador, quadra de tênis, ...</td>\n",
              "      <td>vai ter um monte de NaN</td>\n",
              "    </tr>\n",
              "    <tr>\n",
              "      <th>74</th>\n",
              "      <td>MiscVal</td>\n",
              "      <td>int64</td>\n",
              "      <td>construção</td>\n",
              "      <td>valor das coisas extras acima</td>\n",
              "      <td>NaN</td>\n",
              "    </tr>\n",
              "    <tr>\n",
              "      <th>75</th>\n",
              "      <td>MoSold</td>\n",
              "      <td>int64</td>\n",
              "      <td>venda</td>\n",
              "      <td>mês de venda</td>\n",
              "      <td>NaN</td>\n",
              "    </tr>\n",
              "    <tr>\n",
              "      <th>76</th>\n",
              "      <td>YrSold</td>\n",
              "      <td>int64</td>\n",
              "      <td>venda</td>\n",
              "      <td>ano de venda</td>\n",
              "      <td>NaN</td>\n",
              "    </tr>\n",
              "    <tr>\n",
              "      <th>77</th>\n",
              "      <td>SaleType</td>\n",
              "      <td>object</td>\n",
              "      <td>venda</td>\n",
              "      <td>forma de pagamento</td>\n",
              "      <td>NaN</td>\n",
              "    </tr>\n",
              "    <tr>\n",
              "      <th>78</th>\n",
              "      <td>SaleCondition</td>\n",
              "      <td>object</td>\n",
              "      <td>venda</td>\n",
              "      <td>como foi a venda</td>\n",
              "      <td>NaN</td>\n",
              "    </tr>\n",
              "    <tr>\n",
              "      <th>79</th>\n",
              "      <td>SalePrice</td>\n",
              "      <td>int64</td>\n",
              "      <td>venda</td>\n",
              "      <td>nosso alvo</td>\n",
              "      <td>NaN</td>\n",
              "    </tr>\n",
              "  </tbody>\n",
              "</table>\n",
              "</div>\n",
              "      <button class=\"colab-df-convert\" onclick=\"convertToInteractive('df-9a48a102-7cac-45d5-a656-bd9256d28369')\"\n",
              "              title=\"Convert this dataframe to an interactive table.\"\n",
              "              style=\"display:none;\">\n",
              "        \n",
              "  <svg xmlns=\"http://www.w3.org/2000/svg\" height=\"24px\"viewBox=\"0 0 24 24\"\n",
              "       width=\"24px\">\n",
              "    <path d=\"M0 0h24v24H0V0z\" fill=\"none\"/>\n",
              "    <path d=\"M18.56 5.44l.94 2.06.94-2.06 2.06-.94-2.06-.94-.94-2.06-.94 2.06-2.06.94zm-11 1L8.5 8.5l.94-2.06 2.06-.94-2.06-.94L8.5 2.5l-.94 2.06-2.06.94zm10 10l.94 2.06.94-2.06 2.06-.94-2.06-.94-.94-2.06-.94 2.06-2.06.94z\"/><path d=\"M17.41 7.96l-1.37-1.37c-.4-.4-.92-.59-1.43-.59-.52 0-1.04.2-1.43.59L10.3 9.45l-7.72 7.72c-.78.78-.78 2.05 0 2.83L4 21.41c.39.39.9.59 1.41.59.51 0 1.02-.2 1.41-.59l7.78-7.78 2.81-2.81c.8-.78.8-2.07 0-2.86zM5.41 20L4 18.59l7.72-7.72 1.47 1.35L5.41 20z\"/>\n",
              "  </svg>\n",
              "      </button>\n",
              "      \n",
              "  <style>\n",
              "    .colab-df-container {\n",
              "      display:flex;\n",
              "      flex-wrap:wrap;\n",
              "      gap: 12px;\n",
              "    }\n",
              "\n",
              "    .colab-df-convert {\n",
              "      background-color: #E8F0FE;\n",
              "      border: none;\n",
              "      border-radius: 50%;\n",
              "      cursor: pointer;\n",
              "      display: none;\n",
              "      fill: #1967D2;\n",
              "      height: 32px;\n",
              "      padding: 0 0 0 0;\n",
              "      width: 32px;\n",
              "    }\n",
              "\n",
              "    .colab-df-convert:hover {\n",
              "      background-color: #E2EBFA;\n",
              "      box-shadow: 0px 1px 2px rgba(60, 64, 67, 0.3), 0px 1px 3px 1px rgba(60, 64, 67, 0.15);\n",
              "      fill: #174EA6;\n",
              "    }\n",
              "\n",
              "    [theme=dark] .colab-df-convert {\n",
              "      background-color: #3B4455;\n",
              "      fill: #D2E3FC;\n",
              "    }\n",
              "\n",
              "    [theme=dark] .colab-df-convert:hover {\n",
              "      background-color: #434B5C;\n",
              "      box-shadow: 0px 1px 3px 1px rgba(0, 0, 0, 0.15);\n",
              "      filter: drop-shadow(0px 1px 2px rgba(0, 0, 0, 0.3));\n",
              "      fill: #FFFFFF;\n",
              "    }\n",
              "  </style>\n",
              "\n",
              "      <script>\n",
              "        const buttonEl =\n",
              "          document.querySelector('#df-9a48a102-7cac-45d5-a656-bd9256d28369 button.colab-df-convert');\n",
              "        buttonEl.style.display =\n",
              "          google.colab.kernel.accessAllowed ? 'block' : 'none';\n",
              "\n",
              "        async function convertToInteractive(key) {\n",
              "          const element = document.querySelector('#df-9a48a102-7cac-45d5-a656-bd9256d28369');\n",
              "          const dataTable =\n",
              "            await google.colab.kernel.invokeFunction('convertToInteractive',\n",
              "                                                     [key], {});\n",
              "          if (!dataTable) return;\n",
              "\n",
              "          const docLinkHtml = 'Like what you see? Visit the ' +\n",
              "            '<a target=\"_blank\" href=https://colab.research.google.com/notebooks/data_table.ipynb>data table notebook</a>'\n",
              "            + ' to learn more about interactive tables.';\n",
              "          element.innerHTML = '';\n",
              "          dataTable['output_type'] = 'display_data';\n",
              "          await google.colab.output.renderOutput(dataTable, element);\n",
              "          const docLink = document.createElement('div');\n",
              "          docLink.innerHTML = docLinkHtml;\n",
              "          element.appendChild(docLink);\n",
              "        }\n",
              "      </script>\n",
              "    </div>\n",
              "  </div>\n",
              "  "
            ]
          },
          "metadata": {},
          "execution_count": 108
        }
      ]
    },
    {
      "cell_type": "markdown",
      "source": [
        "## Mudança de tipo de variável"
      ],
      "metadata": {
        "id": "WiQCkogGRPZx"
      }
    },
    {
      "cell_type": "markdown",
      "source": [
        "De antemão vamos falar da feature \"YearBuilt\". Ela aparenta ter correlação com o alvo, como podemos ver graficamente."
      ],
      "metadata": {
        "id": "icp2kVCtsjp2"
      }
    },
    {
      "cell_type": "code",
      "source": [
        "dt = pd.concat([train['SalePrice'], train['YearBuilt']], axis=1)\n",
        "f, ax = plt.subplots(figsize=(50, 20))\n",
        "plt.title('Variação dos preços das casas de Ames ao longo dos anos')\n",
        "fig = sns.boxplot(x='YearBuilt', y='SalePrice', data=dt)\n",
        "fig.axis(ymin=0, ymax=800000);\n",
        "plt.xticks(rotation=90);"
      ],
      "metadata": {
        "colab": {
          "base_uri": "https://localhost:8080/",
          "height": 179
        },
        "id": "iknlAeN1sxKK",
        "outputId": "a500ffbb-9446-4cf1-c629-d9857639b0e1"
      },
      "execution_count": null,
      "outputs": [
        {
          "output_type": "display_data",
          "data": {
            "text/plain": [
              "<Figure size 3600x1440 with 1 Axes>"
            ],
            "image/png": "[encoded data removed]"
          },
          "metadata": {}
        }
      ]
    },
    {
      "cell_type": "markdown",
      "source": [
        "Falamos de *preços constantes* quando nos referimos àqueles que servem de referência em um determinado momento para estabelecer uma comparação com os preços subsequentes. É um conceito muito utilizado no campo da economia e, mais especificamente, nas finanças.\n",
        "\n",
        "Como não sabemos se o alvo está em preços constantes, que normalmente tentam remover o efeito da inflação, não podemos considerar a correlação do alvo com o ano de venda, portanto vamos tornar a feature \"YearBuit\" categórica."
      ],
      "metadata": {
        "id": "MSfbyRBWupNA"
      }
    },
    {
      "cell_type": "markdown",
      "source": [
        "Antes de continuarmos, por conveniência, vamos juntas o treino e o teste."
      ],
      "metadata": {
        "id": "1mQVAAwcG91Y"
      }
    },
    {
      "cell_type": "code",
      "source": [
        "dataset = pd.concat([train, test]).reset_index(drop=True)"
      ],
      "metadata": {
        "id": "obrbrifLHC65"
      },
      "execution_count": null,
      "outputs": []
    },
    {
      "cell_type": "markdown",
      "source": [
        "Além do ano de venda, concluímos que \"MSSubClass\", \"YearRemodAdd\", \"GarageYrBlt\", \"MoSold\" e \"YrSold\" são variáveis numéricas, mas funcionam melhor se categóricas."
      ],
      "metadata": {
        "id": "Yceu64tYTTlC"
      }
    },
    {
      "cell_type": "code",
      "source": [
        "to_str = [\"MSSubClass\", \"YearBuilt\", \"YearRemodAdd\",\n",
        "          \"GarageYrBlt\", \"MoSold\", \"YrSold\"]\n",
        "\n",
        "# Zerando os valores nulos de GarageYrBlt\n",
        "dataset[\"GarageYrBlt\"] = dataset[\"GarageYrBlt\"].fillna(0)\n",
        "\n",
        "dataset[to_str] = dataset[to_str].astype(str)"
      ],
      "metadata": {
        "id": "iavmc7KkKP2q"
      },
      "execution_count": null,
      "outputs": []
    },
    {
      "cell_type": "markdown",
      "source": [
        "Temos duas features que dão nota para um aspecto das casa, \"OverallQual\" e \"OverallCond\". Temos outras features que dão nota mas usam strings."
      ],
      "metadata": {
        "id": "Hh_I-m8lywL8"
      }
    },
    {
      "cell_type": "markdown",
      "source": [
        "As features são \"ExterQual\", \"ExterCond\", \"BsmtQual\", \"BsmtCond\", \"KitchenQual\", \"GarageQual\", \"GarageCond\", \"PoolQC\". Elas funcionam melhor como uma nota, assim como as duas anteriores."
      ],
      "metadata": {
        "id": "63GJDzM8TQ5z"
      }
    },
    {
      "cell_type": "markdown",
      "source": [
        "\n",
        "Os valores destas features são:\n",
        "\n",
        "* Ex:   Excellent\n",
        "* Gd:   Good\n",
        "* TA:   Average/Typical\n",
        "* Fa:   Fair\n",
        "* Po:   Poor\n",
        "* nan: quando missing, a feature tem a pior nota, assim como dito no dicionário do dataset.\n",
        "\n",
        "Vamos aproveitar e imputar valores faltantes nestas features."
      ],
      "metadata": {
        "id": "pDoW7E5nV2Og"
      }
    },
    {
      "cell_type": "code",
      "source": [
        "to_num = ['ExterQual', 'ExterCond', 'BsmtQual', 'BsmtCond', 'HeatingQC',\n",
        "          'KitchenQual', 'FireplaceQu', 'GarageQual', 'GarageCond', 'PoolQC']\n",
        "\n",
        "notas = {'Ex': 5, 'Gd': 4, 'TA': 3, 'Fa': 2, 'Po': 1, np.nan: 0}\n",
        "\n",
        "for feat in to_num:\n",
        "  dataset[feat] = dataset[feat].map(notas)"
      ],
      "metadata": {
        "id": "dxmvJlg_Unun"
      },
      "execution_count": null,
      "outputs": []
    },
    {
      "cell_type": "markdown",
      "source": [
        "Após essas mudanças temos:"
      ],
      "metadata": {
        "id": "W0wrrMk6YqYY"
      }
    },
    {
      "cell_type": "code",
      "source": [
        "dataset.info()"
      ],
      "metadata": {
        "colab": {
          "base_uri": "https://localhost:8080/"
        },
        "id": "vFOqDt-EG7rc",
        "outputId": "372fd825-1431-4090-b262-6345dcb75bf6"
      },
      "execution_count": null,
      "outputs": [
        {
          "output_type": "stream",
          "name": "stdout",
          "text": [
            "<class 'pandas.core.frame.DataFrame'>\n",
            "RangeIndex: 2919 entries, 0 to 2918\n",
            "Data columns (total 80 columns):\n",
            " #   Column         Non-Null Count  Dtype  \n",
            "---  ------         --------------  -----  \n",
            " 0   MSSubClass     2919 non-null   object \n",
            " 1   MSZoning       2915 non-null   object \n",
            " 2   LotFrontage    2433 non-null   float64\n",
            " 3   LotArea        2919 non-null   int64  \n",
            " 4   Street         2919 non-null   object \n",
            " 5   Alley          198 non-null    object \n",
            " 6   LotShape       2919 non-null   object \n",
            " 7   LandContour    2919 non-null   object \n",
            " 8   Utilities      2917 non-null   object \n",
            " 9   LotConfig      2919 non-null   object \n",
            " 10  LandSlope      2919 non-null   object \n",
            " 11  Neighborhood   2919 non-null   object \n",
            " 12  Condition1     2919 non-null   object \n",
            " 13  Condition2     2919 non-null   object \n",
            " 14  BldgType       2919 non-null   object \n",
            " 15  HouseStyle     2919 non-null   object \n",
            " 16  OverallQual    2919 non-null   int64  \n",
            " 17  OverallCond    2919 non-null   int64  \n",
            " 18  YearBuilt      2919 non-null   object \n",
            " 19  YearRemodAdd   2919 non-null   object \n",
            " 20  RoofStyle      2919 non-null   object \n",
            " 21  RoofMatl       2919 non-null   object \n",
            " 22  Exterior1st    2918 non-null   object \n",
            " 23  Exterior2nd    2918 non-null   object \n",
            " 24  MasVnrType     2895 non-null   object \n",
            " 25  MasVnrArea     2896 non-null   float64\n",
            " 26  ExterQual      2919 non-null   int64  \n",
            " 27  ExterCond      2919 non-null   int64  \n",
            " 28  Foundation     2919 non-null   object \n",
            " 29  BsmtQual       2919 non-null   int64  \n",
            " 30  BsmtCond       2919 non-null   int64  \n",
            " 31  BsmtExposure   2837 non-null   object \n",
            " 32  BsmtFinType1   2840 non-null   object \n",
            " 33  BsmtFinSF1     2918 non-null   float64\n",
            " 34  BsmtFinType2   2839 non-null   object \n",
            " 35  BsmtFinSF2     2918 non-null   float64\n",
            " 36  BsmtUnfSF      2918 non-null   float64\n",
            " 37  TotalBsmtSF    2918 non-null   float64\n",
            " 38  Heating        2919 non-null   object \n",
            " 39  HeatingQC      2919 non-null   int64  \n",
            " 40  CentralAir     2919 non-null   object \n",
            " 41  Electrical     2918 non-null   object \n",
            " 42  1stFlrSF       2919 non-null   int64  \n",
            " 43  2ndFlrSF       2919 non-null   int64  \n",
            " 44  LowQualFinSF   2919 non-null   int64  \n",
            " 45  GrLivArea      2919 non-null   int64  \n",
            " 46  BsmtFullBath   2917 non-null   float64\n",
            " 47  BsmtHalfBath   2917 non-null   float64\n",
            " 48  FullBath       2919 non-null   int64  \n",
            " 49  HalfBath       2919 non-null   int64  \n",
            " 50  BedroomAbvGr   2919 non-null   int64  \n",
            " 51  KitchenAbvGr   2919 non-null   int64  \n",
            " 52  KitchenQual    2919 non-null   int64  \n",
            " 53  TotRmsAbvGrd   2919 non-null   int64  \n",
            " 54  Functional     2917 non-null   object \n",
            " 55  Fireplaces     2919 non-null   int64  \n",
            " 56  FireplaceQu    2919 non-null   int64  \n",
            " 57  GarageType     2762 non-null   object \n",
            " 58  GarageYrBlt    2919 non-null   object \n",
            " 59  GarageFinish   2760 non-null   object \n",
            " 60  GarageCars     2918 non-null   float64\n",
            " 61  GarageArea     2918 non-null   float64\n",
            " 62  GarageQual     2919 non-null   int64  \n",
            " 63  GarageCond     2919 non-null   int64  \n",
            " 64  PavedDrive     2919 non-null   object \n",
            " 65  WoodDeckSF     2919 non-null   int64  \n",
            " 66  OpenPorchSF    2919 non-null   int64  \n",
            " 67  EnclosedPorch  2919 non-null   int64  \n",
            " 68  3SsnPorch      2919 non-null   int64  \n",
            " 69  ScreenPorch    2919 non-null   int64  \n",
            " 70  PoolArea       2919 non-null   int64  \n",
            " 71  PoolQC         2919 non-null   int64  \n",
            " 72  Fence          571 non-null    object \n",
            " 73  MiscFeature    105 non-null    object \n",
            " 74  MiscVal        2919 non-null   int64  \n",
            " 75  MoSold         2919 non-null   object \n",
            " 76  YrSold         2919 non-null   object \n",
            " 77  SaleType       2918 non-null   object \n",
            " 78  SaleCondition  2919 non-null   object \n",
            " 79  SalePrice      1460 non-null   float64\n",
            "dtypes: float64(11), int64(30), object(39)\n",
            "memory usage: 1.8+ MB\n"
          ]
        }
      ]
    },
    {
      "cell_type": "markdown",
      "source": [
        "## Valores Faltantes"
      ],
      "metadata": {
        "id": "BVuHAHCf1Tfd"
      }
    },
    {
      "cell_type": "markdown",
      "source": [
        "Já que começamos a imputar valores nulos, vamos fazer com todas as features."
      ],
      "metadata": {
        "id": "Ye8_28sI1WYI"
      }
    },
    {
      "cell_type": "code",
      "source": [
        "def busca_nulos(data):\n",
        "  total = data.isnull().sum().sort_values(ascending=False)\n",
        "  porcentagem = (data.isnull().sum()/data.isnull().count()).sort_values(ascending=False)\n",
        "  missing_data = pd.concat([total, porcentagem], axis=1, keys=['Total', 'Porcentagem'])\n",
        "  return missing_data[missing_data['Total'] > 0]"
      ],
      "metadata": {
        "id": "0N7UL0hOVgC6"
      },
      "execution_count": null,
      "outputs": []
    },
    {
      "cell_type": "code",
      "source": [
        "busca_nulos(dataset)"
      ],
      "metadata": {
        "id": "R5v_l-QnVbf4",
        "colab": {
          "base_uri": "https://localhost:8080/",
          "height": 896
        },
        "outputId": "dcec5b77-7203-40f7-cc8c-90c57ff43291"
      },
      "execution_count": null,
      "outputs": [
        {
          "output_type": "execute_result",
          "data": {
            "text/plain": [
              "              Total  Porcentagem\n",
              "MiscFeature    2814        0.964\n",
              "Alley          2721        0.932\n",
              "Fence          2348        0.804\n",
              "SalePrice      1459        0.500\n",
              "LotFrontage     486        0.166\n",
              "GarageFinish    159        0.054\n",
              "GarageType      157        0.054\n",
              "BsmtExposure     82        0.028\n",
              "BsmtFinType2     80        0.027\n",
              "BsmtFinType1     79        0.027\n",
              "MasVnrType       24        0.008\n",
              "MasVnrArea       23        0.008\n",
              "MSZoning          4        0.001\n",
              "BsmtHalfBath      2        0.001\n",
              "BsmtFullBath      2        0.001\n",
              "Functional        2        0.001\n",
              "Utilities         2        0.001\n",
              "Exterior1st       1        0.000\n",
              "SaleType          1        0.000\n",
              "BsmtFinSF2        1        0.000\n",
              "BsmtUnfSF         1        0.000\n",
              "TotalBsmtSF       1        0.000\n",
              "GarageCars        1        0.000\n",
              "GarageArea        1        0.000\n",
              "BsmtFinSF1        1        0.000\n",
              "Exterior2nd       1        0.000\n",
              "Electrical        1        0.000"
            ],
            "text/html": [
              "\n",
              "  <div id=\"df-ea6bcbdf-99a6-408e-9b1e-5773fa9fbb6b\">\n",
              "    <div class=\"colab-df-container\">\n",
              "      <div>\n",
              "<style scoped>\n",
              "    .dataframe tbody tr th:only-of-type {\n",
              "        vertical-align: middle;\n",
              "    }\n",
              "\n",
              "    .dataframe tbody tr th {\n",
              "        vertical-align: top;\n",
              "    }\n",
              "\n",
              "    .dataframe thead th {\n",
              "        text-align: right;\n",
              "    }\n",
              "</style>\n",
              "<table border=\"1\" class=\"dataframe\">\n",
              "  <thead>\n",
              "    <tr style=\"text-align: right;\">\n",
              "      <th></th>\n",
              "      <th>Total</th>\n",
              "      <th>Porcentagem</th>\n",
              "    </tr>\n",
              "  </thead>\n",
              "  <tbody>\n",
              "    <tr>\n",
              "      <th>MiscFeature</th>\n",
              "      <td>2814</td>\n",
              "      <td>0.964</td>\n",
              "    </tr>\n",
              "    <tr>\n",
              "      <th>Alley</th>\n",
              "      <td>2721</td>\n",
              "      <td>0.932</td>\n",
              "    </tr>\n",
              "    <tr>\n",
              "      <th>Fence</th>\n",
              "      <td>2348</td>\n",
              "      <td>0.804</td>\n",
              "    </tr>\n",
              "    <tr>\n",
              "      <th>SalePrice</th>\n",
              "      <td>1459</td>\n",
              "      <td>0.500</td>\n",
              "    </tr>\n",
              "    <tr>\n",
              "      <th>LotFrontage</th>\n",
              "      <td>486</td>\n",
              "      <td>0.166</td>\n",
              "    </tr>\n",
              "    <tr>\n",
              "      <th>GarageFinish</th>\n",
              "      <td>159</td>\n",
              "      <td>0.054</td>\n",
              "    </tr>\n",
              "    <tr>\n",
              "      <th>GarageType</th>\n",
              "      <td>157</td>\n",
              "      <td>0.054</td>\n",
              "    </tr>\n",
              "    <tr>\n",
              "      <th>BsmtExposure</th>\n",
              "      <td>82</td>\n",
              "      <td>0.028</td>\n",
              "    </tr>\n",
              "    <tr>\n",
              "      <th>BsmtFinType2</th>\n",
              "      <td>80</td>\n",
              "      <td>0.027</td>\n",
              "    </tr>\n",
              "    <tr>\n",
              "      <th>BsmtFinType1</th>\n",
              "      <td>79</td>\n",
              "      <td>0.027</td>\n",
              "    </tr>\n",
              "    <tr>\n",
              "      <th>MasVnrType</th>\n",
              "      <td>24</td>\n",
              "      <td>0.008</td>\n",
              "    </tr>\n",
              "    <tr>\n",
              "      <th>MasVnrArea</th>\n",
              "      <td>23</td>\n",
              "      <td>0.008</td>\n",
              "    </tr>\n",
              "    <tr>\n",
              "      <th>MSZoning</th>\n",
              "      <td>4</td>\n",
              "      <td>0.001</td>\n",
              "    </tr>\n",
              "    <tr>\n",
              "      <th>BsmtHalfBath</th>\n",
              "      <td>2</td>\n",
              "      <td>0.001</td>\n",
              "    </tr>\n",
              "    <tr>\n",
              "      <th>BsmtFullBath</th>\n",
              "      <td>2</td>\n",
              "      <td>0.001</td>\n",
              "    </tr>\n",
              "    <tr>\n",
              "      <th>Functional</th>\n",
              "      <td>2</td>\n",
              "      <td>0.001</td>\n",
              "    </tr>\n",
              "    <tr>\n",
              "      <th>Utilities</th>\n",
              "      <td>2</td>\n",
              "      <td>0.001</td>\n",
              "    </tr>\n",
              "    <tr>\n",
              "      <th>Exterior1st</th>\n",
              "      <td>1</td>\n",
              "      <td>0.000</td>\n",
              "    </tr>\n",
              "    <tr>\n",
              "      <th>SaleType</th>\n",
              "      <td>1</td>\n",
              "      <td>0.000</td>\n",
              "    </tr>\n",
              "    <tr>\n",
              "      <th>BsmtFinSF2</th>\n",
              "      <td>1</td>\n",
              "      <td>0.000</td>\n",
              "    </tr>\n",
              "    <tr>\n",
              "      <th>BsmtUnfSF</th>\n",
              "      <td>1</td>\n",
              "      <td>0.000</td>\n",
              "    </tr>\n",
              "    <tr>\n",
              "      <th>TotalBsmtSF</th>\n",
              "      <td>1</td>\n",
              "      <td>0.000</td>\n",
              "    </tr>\n",
              "    <tr>\n",
              "      <th>GarageCars</th>\n",
              "      <td>1</td>\n",
              "      <td>0.000</td>\n",
              "    </tr>\n",
              "    <tr>\n",
              "      <th>GarageArea</th>\n",
              "      <td>1</td>\n",
              "      <td>0.000</td>\n",
              "    </tr>\n",
              "    <tr>\n",
              "      <th>BsmtFinSF1</th>\n",
              "      <td>1</td>\n",
              "      <td>0.000</td>\n",
              "    </tr>\n",
              "    <tr>\n",
              "      <th>Exterior2nd</th>\n",
              "      <td>1</td>\n",
              "      <td>0.000</td>\n",
              "    </tr>\n",
              "    <tr>\n",
              "      <th>Electrical</th>\n",
              "      <td>1</td>\n",
              "      <td>0.000</td>\n",
              "    </tr>\n",
              "  </tbody>\n",
              "</table>\n",
              "</div>\n",
              "      <button class=\"colab-df-convert\" onclick=\"convertToInteractive('df-ea6bcbdf-99a6-408e-9b1e-5773fa9fbb6b')\"\n",
              "              title=\"Convert this dataframe to an interactive table.\"\n",
              "              style=\"display:none;\">\n",
              "        \n",
              "  <svg xmlns=\"http://www.w3.org/2000/svg\" height=\"24px\"viewBox=\"0 0 24 24\"\n",
              "       width=\"24px\">\n",
              "    <path d=\"M0 0h24v24H0V0z\" fill=\"none\"/>\n",
              "    <path d=\"M18.56 5.44l.94 2.06.94-2.06 2.06-.94-2.06-.94-.94-2.06-.94 2.06-2.06.94zm-11 1L8.5 8.5l.94-2.06 2.06-.94-2.06-.94L8.5 2.5l-.94 2.06-2.06.94zm10 10l.94 2.06.94-2.06 2.06-.94-2.06-.94-.94-2.06-.94 2.06-2.06.94z\"/><path d=\"M17.41 7.96l-1.37-1.37c-.4-.4-.92-.59-1.43-.59-.52 0-1.04.2-1.43.59L10.3 9.45l-7.72 7.72c-.78.78-.78 2.05 0 2.83L4 21.41c.39.39.9.59 1.41.59.51 0 1.02-.2 1.41-.59l7.78-7.78 2.81-2.81c.8-.78.8-2.07 0-2.86zM5.41 20L4 18.59l7.72-7.72 1.47 1.35L5.41 20z\"/>\n",
              "  </svg>\n",
              "      </button>\n",
              "      \n",
              "  <style>\n",
              "    .colab-df-container {\n",
              "      display:flex;\n",
              "      flex-wrap:wrap;\n",
              "      gap: 12px;\n",
              "    }\n",
              "\n",
              "    .colab-df-convert {\n",
              "      background-color: #E8F0FE;\n",
              "      border: none;\n",
              "      border-radius: 50%;\n",
              "      cursor: pointer;\n",
              "      display: none;\n",
              "      fill: #1967D2;\n",
              "      height: 32px;\n",
              "      padding: 0 0 0 0;\n",
              "      width: 32px;\n",
              "    }\n",
              "\n",
              "    .colab-df-convert:hover {\n",
              "      background-color: #E2EBFA;\n",
              "      box-shadow: 0px 1px 2px rgba(60, 64, 67, 0.3), 0px 1px 3px 1px rgba(60, 64, 67, 0.15);\n",
              "      fill: #174EA6;\n",
              "    }\n",
              "\n",
              "    [theme=dark] .colab-df-convert {\n",
              "      background-color: #3B4455;\n",
              "      fill: #D2E3FC;\n",
              "    }\n",
              "\n",
              "    [theme=dark] .colab-df-convert:hover {\n",
              "      background-color: #434B5C;\n",
              "      box-shadow: 0px 1px 3px 1px rgba(0, 0, 0, 0.15);\n",
              "      filter: drop-shadow(0px 1px 2px rgba(0, 0, 0, 0.3));\n",
              "      fill: #FFFFFF;\n",
              "    }\n",
              "  </style>\n",
              "\n",
              "      <script>\n",
              "        const buttonEl =\n",
              "          document.querySelector('#df-ea6bcbdf-99a6-408e-9b1e-5773fa9fbb6b button.colab-df-convert');\n",
              "        buttonEl.style.display =\n",
              "          google.colab.kernel.accessAllowed ? 'block' : 'none';\n",
              "\n",
              "        async function convertToInteractive(key) {\n",
              "          const element = document.querySelector('#df-ea6bcbdf-99a6-408e-9b1e-5773fa9fbb6b');\n",
              "          const dataTable =\n",
              "            await google.colab.kernel.invokeFunction('convertToInteractive',\n",
              "                                                     [key], {});\n",
              "          if (!dataTable) return;\n",
              "\n",
              "          const docLinkHtml = 'Like what you see? Visit the ' +\n",
              "            '<a target=\"_blank\" href=https://colab.research.google.com/notebooks/data_table.ipynb>data table notebook</a>'\n",
              "            + ' to learn more about interactive tables.';\n",
              "          element.innerHTML = '';\n",
              "          dataTable['output_type'] = 'display_data';\n",
              "          await google.colab.output.renderOutput(dataTable, element);\n",
              "          const docLink = document.createElement('div');\n",
              "          docLink.innerHTML = docLinkHtml;\n",
              "          element.appendChild(docLink);\n",
              "        }\n",
              "      </script>\n",
              "    </div>\n",
              "  </div>\n",
              "  "
            ]
          },
          "metadata": {},
          "execution_count": 65
        }
      ]
    },
    {
      "cell_type": "markdown",
      "source": [
        "São poucas features com valores nulos e cada uma tem um significado pontuado no dicionário do dataset. Por isso vamos analisar cada uma individualmente."
      ],
      "metadata": {
        "id": "I4OQRC9N9tlY"
      }
    },
    {
      "cell_type": "markdown",
      "source": [
        "Pensando nas features com maior porcentagem de nulos, inicialmente poderia ser uma boa estratégia removê-las, porém ter um fator adicional (elevador, 2ª garagem, cercado, corredor de entrada, etc.) impacta no valor da casa, por isso vamos imputar os valores nulos como o dicionário do dataset sugere."
      ],
      "metadata": {
        "id": "PSzIhqTbK53N"
      }
    },
    {
      "cell_type": "markdown",
      "source": [
        "Para as features a seguir dicionário nos diz que NA significa sem a feature. Portanto vamos imputar \"None\" nos nulos."
      ],
      "metadata": {
        "id": "TWEvLMeb97cM"
      }
    },
    {
      "cell_type": "code",
      "source": [
        "missing_none = ['MiscFeature', 'Alley', 'Fence',\n",
        "                'GarageType', 'GarageFinish', 'BsmtExposure',\n",
        "                'BsmtFinType1', 'BsmtFinType2', 'MasVnrType']\n",
        "\n",
        "for feat in missing_none:\n",
        "  dataset[feat] = dataset[feat].fillna(\"None\")"
      ],
      "metadata": {
        "id": "ZGMCAArkCz_b"
      },
      "execution_count": null,
      "outputs": []
    },
    {
      "cell_type": "markdown",
      "source": [
        "As features a seguir são numéricas e o dicionário sugere que um valor vazio é a falta da feature, logo vamos imputar zero nos nulos."
      ],
      "metadata": {
        "id": "eLYeXT9EEyOV"
      }
    },
    {
      "cell_type": "code",
      "source": [
        "missing_zero = ['GarageArea', 'GarageCars', 'BsmtFinSF1', 'BsmtFinSF2', \n",
        "                'BsmtUnfSF','TotalBsmtSF', 'BsmtFullBath', 'BsmtHalfBath',\n",
        "                'MasVnrType', 'MasVnrArea']\n",
        "\n",
        "for feat in missing_zero:\n",
        "  dataset[feat] = dataset[feat].fillna(0)"
      ],
      "metadata": {
        "id": "Mv3piwLGEuL5"
      },
      "execution_count": null,
      "outputs": []
    },
    {
      "cell_type": "markdown",
      "source": [
        "As features a seguir são categóricas. Vamos imputar o valor mais comum nos nulos."
      ],
      "metadata": {
        "id": "sl52yPdNOMA6"
      }
    },
    {
      "cell_type": "code",
      "source": [
        "missing_mode = ['MSZoning', 'Electrical', 'Exterior1st',\n",
        "                'Exterior2nd', 'SaleType']\n",
        "\n",
        "for feat in missing_mode:\n",
        "  dataset[feat] = dataset[feat].fillna(dataset[feat].mode()[0])"
      ],
      "metadata": {
        "id": "Tls2Pfv1UTjI"
      },
      "execution_count": null,
      "outputs": []
    },
    {
      "cell_type": "markdown",
      "source": [
        "**LotFrontage**\n",
        "\n",
        "O tamanho de cada rua conectada a uma casa em geral é similar para cada outra casa do mesmo bairro, logo podemos imputar os valores nulos com a mediana do bairro de cada casa."
      ],
      "metadata": {
        "id": "hizAnbXKAo6i"
      }
    },
    {
      "cell_type": "code",
      "source": [
        "dataset[\"LotFrontage\"] = dataset.groupby(\"Neighborhood\")[\"LotFrontage\"].transform(lambda x: x.fillna(x.median()))"
      ],
      "metadata": {
        "id": "_YJ5I7nzBC0u"
      },
      "execution_count": null,
      "outputs": []
    },
    {
      "cell_type": "markdown",
      "source": [
        "**Utilities**\n",
        "\n",
        "Todos os valores do treino com excessão de 1 são o mesmo, logo está feature não vai nos ajudar. Vamos removê-la."
      ],
      "metadata": {
        "id": "c9jyRUaQPLz_"
      }
    },
    {
      "cell_type": "code",
      "source": [
        "train['Utilities'].value_counts()"
      ],
      "metadata": {
        "colab": {
          "base_uri": "https://localhost:8080/"
        },
        "id": "oZvm0fvwPy2v",
        "outputId": "c89d28ce-c858-495d-9038-980ae615b30a"
      },
      "execution_count": null,
      "outputs": [
        {
          "output_type": "execute_result",
          "data": {
            "text/plain": [
              "AllPub    1459\n",
              "NoSeWa       1\n",
              "Name: Utilities, dtype: int64"
            ]
          },
          "metadata": {},
          "execution_count": 70
        }
      ]
    },
    {
      "cell_type": "code",
      "source": [
        "dataset.drop(['Utilities'], axis=1, inplace=True)"
      ],
      "metadata": {
        "id": "AE8ksDQyPk1Y"
      },
      "execution_count": null,
      "outputs": []
    },
    {
      "cell_type": "markdown",
      "source": [
        "**Functional**\n",
        "\n",
        "O dicionário nos diz que NA significa 'Typ': typical."
      ],
      "metadata": {
        "id": "6-NeKwafQZ9c"
      }
    },
    {
      "cell_type": "code",
      "source": [
        "dataset[\"Functional\"] = dataset[\"Functional\"].fillna(\"Typ\")"
      ],
      "metadata": {
        "id": "CFf5U8_IQj04"
      },
      "execution_count": null,
      "outputs": []
    },
    {
      "cell_type": "markdown",
      "source": [
        "Com isso não temos valores nulos tanto no treino quanto no teste, com excessão, claro, do valor dos imóveis no teste."
      ],
      "metadata": {
        "id": "D-KtsvZ4Q-XE"
      }
    },
    {
      "cell_type": "code",
      "source": [
        "busca_nulos(dataset)"
      ],
      "metadata": {
        "colab": {
          "base_uri": "https://localhost:8080/",
          "height": 81
        },
        "id": "OzGwnNSLQ-wR",
        "outputId": "4168c890-ab86-44cb-b704-9e3c97d07b46"
      },
      "execution_count": null,
      "outputs": [
        {
          "output_type": "execute_result",
          "data": {
            "text/plain": [
              "           Total  Porcentagem\n",
              "SalePrice   1459        0.500"
            ],
            "text/html": [
              "\n",
              "  <div id=\"df-318ddca3-0a34-424b-866c-e133460c5791\">\n",
              "    <div class=\"colab-df-container\">\n",
              "      <div>\n",
              "<style scoped>\n",
              "    .dataframe tbody tr th:only-of-type {\n",
              "        vertical-align: middle;\n",
              "    }\n",
              "\n",
              "    .dataframe tbody tr th {\n",
              "        vertical-align: top;\n",
              "    }\n",
              "\n",
              "    .dataframe thead th {\n",
              "        text-align: right;\n",
              "    }\n",
              "</style>\n",
              "<table border=\"1\" class=\"dataframe\">\n",
              "  <thead>\n",
              "    <tr style=\"text-align: right;\">\n",
              "      <th></th>\n",
              "      <th>Total</th>\n",
              "      <th>Porcentagem</th>\n",
              "    </tr>\n",
              "  </thead>\n",
              "  <tbody>\n",
              "    <tr>\n",
              "      <th>SalePrice</th>\n",
              "      <td>1459</td>\n",
              "      <td>0.500</td>\n",
              "    </tr>\n",
              "  </tbody>\n",
              "</table>\n",
              "</div>\n",
              "      <button class=\"colab-df-convert\" onclick=\"convertToInteractive('df-318ddca3-0a34-424b-866c-e133460c5791')\"\n",
              "              title=\"Convert this dataframe to an interactive table.\"\n",
              "              style=\"display:none;\">\n",
              "        \n",
              "  <svg xmlns=\"http://www.w3.org/2000/svg\" height=\"24px\"viewBox=\"0 0 24 24\"\n",
              "       width=\"24px\">\n",
              "    <path d=\"M0 0h24v24H0V0z\" fill=\"none\"/>\n",
              "    <path d=\"M18.56 5.44l.94 2.06.94-2.06 2.06-.94-2.06-.94-.94-2.06-.94 2.06-2.06.94zm-11 1L8.5 8.5l.94-2.06 2.06-.94-2.06-.94L8.5 2.5l-.94 2.06-2.06.94zm10 10l.94 2.06.94-2.06 2.06-.94-2.06-.94-.94-2.06-.94 2.06-2.06.94z\"/><path d=\"M17.41 7.96l-1.37-1.37c-.4-.4-.92-.59-1.43-.59-.52 0-1.04.2-1.43.59L10.3 9.45l-7.72 7.72c-.78.78-.78 2.05 0 2.83L4 21.41c.39.39.9.59 1.41.59.51 0 1.02-.2 1.41-.59l7.78-7.78 2.81-2.81c.8-.78.8-2.07 0-2.86zM5.41 20L4 18.59l7.72-7.72 1.47 1.35L5.41 20z\"/>\n",
              "  </svg>\n",
              "      </button>\n",
              "      \n",
              "  <style>\n",
              "    .colab-df-container {\n",
              "      display:flex;\n",
              "      flex-wrap:wrap;\n",
              "      gap: 12px;\n",
              "    }\n",
              "\n",
              "    .colab-df-convert {\n",
              "      background-color: #E8F0FE;\n",
              "      border: none;\n",
              "      border-radius: 50%;\n",
              "      cursor: pointer;\n",
              "      display: none;\n",
              "      fill: #1967D2;\n",
              "      height: 32px;\n",
              "      padding: 0 0 0 0;\n",
              "      width: 32px;\n",
              "    }\n",
              "\n",
              "    .colab-df-convert:hover {\n",
              "      background-color: #E2EBFA;\n",
              "      box-shadow: 0px 1px 2px rgba(60, 64, 67, 0.3), 0px 1px 3px 1px rgba(60, 64, 67, 0.15);\n",
              "      fill: #174EA6;\n",
              "    }\n",
              "\n",
              "    [theme=dark] .colab-df-convert {\n",
              "      background-color: #3B4455;\n",
              "      fill: #D2E3FC;\n",
              "    }\n",
              "\n",
              "    [theme=dark] .colab-df-convert:hover {\n",
              "      background-color: #434B5C;\n",
              "      box-shadow: 0px 1px 3px 1px rgba(0, 0, 0, 0.15);\n",
              "      filter: drop-shadow(0px 1px 2px rgba(0, 0, 0, 0.3));\n",
              "      fill: #FFFFFF;\n",
              "    }\n",
              "  </style>\n",
              "\n",
              "      <script>\n",
              "        const buttonEl =\n",
              "          document.querySelector('#df-318ddca3-0a34-424b-866c-e133460c5791 button.colab-df-convert');\n",
              "        buttonEl.style.display =\n",
              "          google.colab.kernel.accessAllowed ? 'block' : 'none';\n",
              "\n",
              "        async function convertToInteractive(key) {\n",
              "          const element = document.querySelector('#df-318ddca3-0a34-424b-866c-e133460c5791');\n",
              "          const dataTable =\n",
              "            await google.colab.kernel.invokeFunction('convertToInteractive',\n",
              "                                                     [key], {});\n",
              "          if (!dataTable) return;\n",
              "\n",
              "          const docLinkHtml = 'Like what you see? Visit the ' +\n",
              "            '<a target=\"_blank\" href=https://colab.research.google.com/notebooks/data_table.ipynb>data table notebook</a>'\n",
              "            + ' to learn more about interactive tables.';\n",
              "          element.innerHTML = '';\n",
              "          dataTable['output_type'] = 'display_data';\n",
              "          await google.colab.output.renderOutput(dataTable, element);\n",
              "          const docLink = document.createElement('div');\n",
              "          docLink.innerHTML = docLinkHtml;\n",
              "          element.appendChild(docLink);\n",
              "        }\n",
              "      </script>\n",
              "    </div>\n",
              "  </div>\n",
              "  "
            ]
          },
          "metadata": {},
          "execution_count": 73
        }
      ]
    },
    {
      "cell_type": "markdown",
      "source": [
        "## Correlações"
      ],
      "metadata": {
        "id": "F3PV8V_fkhRN"
      }
    },
    {
      "cell_type": "markdown",
      "source": [
        "Podemos ver pelo heatmap que temos algumas features bem correlacionadas com o alvo."
      ],
      "metadata": {
        "id": "FjF9Im0cLVwS"
      }
    },
    {
      "cell_type": "code",
      "source": [
        "corr = dataset.corr()\n",
        "f, ax = plt.subplots(figsize=(12, 9))\n",
        "sns.heatmap(corr, square=True);"
      ],
      "metadata": {
        "colab": {
          "base_uri": "https://localhost:8080/",
          "height": 362
        },
        "id": "6RjStD4XMDHb",
        "outputId": "809a32bc-8d69-46d2-f869-3c6f19b38c6f"
      },
      "execution_count": null,
      "outputs": [
        {
          "output_type": "display_data",
          "data": {
            "text/plain": [
              "<Figure size 864x648 with 2 Axes>"
            ],
            "image/png": "[encoded data removed]"
          },
          "metadata": {}
        }
      ]
    },
    {
      "cell_type": "markdown",
      "source": [
        "Separarmos as features que tem correlação com o alvo maior em módulo que 0.4."
      ],
      "metadata": {
        "id": "IgI5KLJ_QACT"
      }
    },
    {
      "cell_type": "code",
      "source": [
        "high_corr = list(corr.index[abs(corr['SalePrice']) > 0.4])\n",
        "\n",
        "f, ax = plt.subplots(figsize=(12, 9))\n",
        "hm = sns.heatmap(dataset[high_corr].corr(), \n",
        "                 cbar=True, annot=True, \n",
        "                 square=True, fmt='.2f', \n",
        "                 annot_kws={'size': 10})\n",
        "plt.show()"
      ],
      "metadata": {
        "colab": {
          "base_uri": "https://localhost:8080/",
          "height": 367
        },
        "id": "2uu_8-LhM6_8",
        "outputId": "41f6c3ff-7118-44d4-cbd0-589ee8fe659b"
      },
      "execution_count": null,
      "outputs": [
        {
          "output_type": "display_data",
          "data": {
            "text/plain": [
              "<Figure size 864x648 with 2 Axes>"
            ],
            "image/png": "[encoded data removed]"
          },
          "metadata": {}
        }
      ]
    },
    {
      "cell_type": "markdown",
      "source": [
        "Algumas features são muito correlacionadas entre si, além de terem alta correlação com o preço."
      ],
      "metadata": {
        "id": "L0Rao75zQQrN"
      }
    },
    {
      "cell_type": "code",
      "source": [
        "dual = dataset[high_corr].corr()\n",
        "dual[dual > 0.8]"
      ],
      "metadata": {
        "colab": {
          "base_uri": "https://localhost:8080/",
          "height": 615
        },
        "id": "GtLraxiSkuav",
        "outputId": "70eeca06-17b3-4aba-bb1c-5db96c05c004"
      },
      "execution_count": null,
      "outputs": [
        {
          "output_type": "execute_result",
          "data": {
            "text/plain": [
              "              OverallQual  MasVnrArea  ExterQual  BsmtQual  TotalBsmtSF  \\\n",
              "OverallQual         1.000         NaN        NaN       NaN          NaN   \n",
              "MasVnrArea            NaN       1.000        NaN       NaN          NaN   \n",
              "ExterQual             NaN         NaN      1.000       NaN          NaN   \n",
              "BsmtQual              NaN         NaN        NaN     1.000          NaN   \n",
              "TotalBsmtSF           NaN         NaN        NaN       NaN        1.000   \n",
              "HeatingQC             NaN         NaN        NaN       NaN          NaN   \n",
              "1stFlrSF              NaN         NaN        NaN       NaN        0.801   \n",
              "GrLivArea             NaN         NaN        NaN       NaN          NaN   \n",
              "FullBath              NaN         NaN        NaN       NaN          NaN   \n",
              "KitchenQual           NaN         NaN        NaN       NaN          NaN   \n",
              "TotRmsAbvGrd          NaN         NaN        NaN       NaN          NaN   \n",
              "Fireplaces            NaN         NaN        NaN       NaN          NaN   \n",
              "FireplaceQu           NaN         NaN        NaN       NaN          NaN   \n",
              "GarageCars            NaN         NaN        NaN       NaN          NaN   \n",
              "GarageArea            NaN         NaN        NaN       NaN          NaN   \n",
              "SalePrice             NaN         NaN        NaN       NaN          NaN   \n",
              "\n",
              "              HeatingQC  1stFlrSF  GrLivArea  FullBath  KitchenQual  \\\n",
              "OverallQual         NaN       NaN        NaN       NaN          NaN   \n",
              "MasVnrArea          NaN       NaN        NaN       NaN          NaN   \n",
              "ExterQual           NaN       NaN        NaN       NaN          NaN   \n",
              "BsmtQual            NaN       NaN        NaN       NaN          NaN   \n",
              "TotalBsmtSF         NaN     0.801        NaN       NaN          NaN   \n",
              "HeatingQC         1.000       NaN        NaN       NaN          NaN   \n",
              "1stFlrSF            NaN     1.000        NaN       NaN          NaN   \n",
              "GrLivArea           NaN       NaN      1.000       NaN          NaN   \n",
              "FullBath            NaN       NaN        NaN     1.000          NaN   \n",
              "KitchenQual         NaN       NaN        NaN       NaN        1.000   \n",
              "TotRmsAbvGrd        NaN       NaN      0.808       NaN          NaN   \n",
              "Fireplaces          NaN       NaN        NaN       NaN          NaN   \n",
              "FireplaceQu         NaN       NaN        NaN       NaN          NaN   \n",
              "GarageCars          NaN       NaN        NaN       NaN          NaN   \n",
              "GarageArea          NaN       NaN        NaN       NaN          NaN   \n",
              "SalePrice           NaN       NaN        NaN       NaN          NaN   \n",
              "\n",
              "              TotRmsAbvGrd  Fireplaces  FireplaceQu  GarageCars  GarageArea  \\\n",
              "OverallQual            NaN         NaN          NaN         NaN         NaN   \n",
              "MasVnrArea             NaN         NaN          NaN         NaN         NaN   \n",
              "ExterQual              NaN         NaN          NaN         NaN         NaN   \n",
              "BsmtQual               NaN         NaN          NaN         NaN         NaN   \n",
              "TotalBsmtSF            NaN         NaN          NaN         NaN         NaN   \n",
              "HeatingQC              NaN         NaN          NaN         NaN         NaN   \n",
              "1stFlrSF               NaN         NaN          NaN         NaN         NaN   \n",
              "GrLivArea            0.808         NaN          NaN         NaN         NaN   \n",
              "FullBath               NaN         NaN          NaN         NaN         NaN   \n",
              "KitchenQual            NaN         NaN          NaN         NaN         NaN   \n",
              "TotRmsAbvGrd         1.000         NaN          NaN         NaN         NaN   \n",
              "Fireplaces             NaN       1.000        0.862         NaN         NaN   \n",
              "FireplaceQu            NaN       0.862        1.000         NaN         NaN   \n",
              "GarageCars             NaN         NaN          NaN       1.000       0.890   \n",
              "GarageArea             NaN         NaN          NaN       0.890       1.000   \n",
              "SalePrice              NaN         NaN          NaN         NaN         NaN   \n",
              "\n",
              "              SalePrice  \n",
              "OverallQual         NaN  \n",
              "MasVnrArea          NaN  \n",
              "ExterQual           NaN  \n",
              "BsmtQual            NaN  \n",
              "TotalBsmtSF         NaN  \n",
              "HeatingQC           NaN  \n",
              "1stFlrSF            NaN  \n",
              "GrLivArea           NaN  \n",
              "FullBath            NaN  \n",
              "KitchenQual         NaN  \n",
              "TotRmsAbvGrd        NaN  \n",
              "Fireplaces          NaN  \n",
              "FireplaceQu         NaN  \n",
              "GarageCars          NaN  \n",
              "GarageArea          NaN  \n",
              "SalePrice         1.000  "
            ],
            "text/html": [
              "\n",
              "  <div id=\"df-b48ebb8b-c6a6-4f4c-ae43-ca5c5d2dfb85\">\n",
              "    <div class=\"colab-df-container\">\n",
              "      <div>\n",
              "<style scoped>\n",
              "    .dataframe tbody tr th:only-of-type {\n",
              "        vertical-align: middle;\n",
              "    }\n",
              "\n",
              "    .dataframe tbody tr th {\n",
              "        vertical-align: top;\n",
              "    }\n",
              "\n",
              "    .dataframe thead th {\n",
              "        text-align: right;\n",
              "    }\n",
              "</style>\n",
              "<table border=\"1\" class=\"dataframe\">\n",
              "  <thead>\n",
              "    <tr style=\"text-align: right;\">\n",
              "      <th></th>\n",
              "      <th>OverallQual</th>\n",
              "      <th>MasVnrArea</th>\n",
              "      <th>ExterQual</th>\n",
              "      <th>BsmtQual</th>\n",
              "      <th>TotalBsmtSF</th>\n",
              "      <th>HeatingQC</th>\n",
              "      <th>1stFlrSF</th>\n",
              "      <th>GrLivArea</th>\n",
              "      <th>FullBath</th>\n",
              "      <th>KitchenQual</th>\n",
              "      <th>TotRmsAbvGrd</th>\n",
              "      <th>Fireplaces</th>\n",
              "      <th>FireplaceQu</th>\n",
              "      <th>GarageCars</th>\n",
              "      <th>GarageArea</th>\n",
              "      <th>SalePrice</th>\n",
              "    </tr>\n",
              "  </thead>\n",
              "  <tbody>\n",
              "    <tr>\n",
              "      <th>OverallQual</th>\n",
              "      <td>1.000</td>\n",
              "      <td>NaN</td>\n",
              "      <td>NaN</td>\n",
              "      <td>NaN</td>\n",
              "      <td>NaN</td>\n",
              "      <td>NaN</td>\n",
              "      <td>NaN</td>\n",
              "      <td>NaN</td>\n",
              "      <td>NaN</td>\n",
              "      <td>NaN</td>\n",
              "      <td>NaN</td>\n",
              "      <td>NaN</td>\n",
              "      <td>NaN</td>\n",
              "      <td>NaN</td>\n",
              "      <td>NaN</td>\n",
              "      <td>NaN</td>\n",
              "    </tr>\n",
              "    <tr>\n",
              "      <th>MasVnrArea</th>\n",
              "      <td>NaN</td>\n",
              "      <td>1.000</td>\n",
              "      <td>NaN</td>\n",
              "      <td>NaN</td>\n",
              "      <td>NaN</td>\n",
              "      <td>NaN</td>\n",
              "      <td>NaN</td>\n",
              "      <td>NaN</td>\n",
              "      <td>NaN</td>\n",
              "      <td>NaN</td>\n",
              "      <td>NaN</td>\n",
              "      <td>NaN</td>\n",
              "      <td>NaN</td>\n",
              "      <td>NaN</td>\n",
              "      <td>NaN</td>\n",
              "      <td>NaN</td>\n",
              "    </tr>\n",
              "    <tr>\n",
              "      <th>ExterQual</th>\n",
              "      <td>NaN</td>\n",
              "      <td>NaN</td>\n",
              "      <td>1.000</td>\n",
              "      <td>NaN</td>\n",
              "      <td>NaN</td>\n",
              "      <td>NaN</td>\n",
              "      <td>NaN</td>\n",
              "      <td>NaN</td>\n",
              "      <td>NaN</td>\n",
              "      <td>NaN</td>\n",
              "      <td>NaN</td>\n",
              "      <td>NaN</td>\n",
              "      <td>NaN</td>\n",
              "      <td>NaN</td>\n",
              "      <td>NaN</td>\n",
              "      <td>NaN</td>\n",
              "    </tr>\n",
              "    <tr>\n",
              "      <th>BsmtQual</th>\n",
              "      <td>NaN</td>\n",
              "      <td>NaN</td>\n",
              "      <td>NaN</td>\n",
              "      <td>1.000</td>\n",
              "      <td>NaN</td>\n",
              "      <td>NaN</td>\n",
              "      <td>NaN</td>\n",
              "      <td>NaN</td>\n",
              "      <td>NaN</td>\n",
              "      <td>NaN</td>\n",
              "      <td>NaN</td>\n",
              "      <td>NaN</td>\n",
              "      <td>NaN</td>\n",
              "      <td>NaN</td>\n",
              "      <td>NaN</td>\n",
              "      <td>NaN</td>\n",
              "    </tr>\n",
              "    <tr>\n",
              "      <th>TotalBsmtSF</th>\n",
              "      <td>NaN</td>\n",
              "      <td>NaN</td>\n",
              "      <td>NaN</td>\n",
              "      <td>NaN</td>\n",
              "      <td>1.000</td>\n",
              "      <td>NaN</td>\n",
              "      <td>0.801</td>\n",
              "      <td>NaN</td>\n",
              "      <td>NaN</td>\n",
              "      <td>NaN</td>\n",
              "      <td>NaN</td>\n",
              "      <td>NaN</td>\n",
              "      <td>NaN</td>\n",
              "      <td>NaN</td>\n",
              "      <td>NaN</td>\n",
              "      <td>NaN</td>\n",
              "    </tr>\n",
              "    <tr>\n",
              "      <th>HeatingQC</th>\n",
              "      <td>NaN</td>\n",
              "      <td>NaN</td>\n",
              "      <td>NaN</td>\n",
              "      <td>NaN</td>\n",
              "      <td>NaN</td>\n",
              "      <td>1.000</td>\n",
              "      <td>NaN</td>\n",
              "      <td>NaN</td>\n",
              "      <td>NaN</td>\n",
              "      <td>NaN</td>\n",
              "      <td>NaN</td>\n",
              "      <td>NaN</td>\n",
              "      <td>NaN</td>\n",
              "      <td>NaN</td>\n",
              "      <td>NaN</td>\n",
              "      <td>NaN</td>\n",
              "    </tr>\n",
              "    <tr>\n",
              "      <th>1stFlrSF</th>\n",
              "      <td>NaN</td>\n",
              "      <td>NaN</td>\n",
              "      <td>NaN</td>\n",
              "      <td>NaN</td>\n",
              "      <td>0.801</td>\n",
              "      <td>NaN</td>\n",
              "      <td>1.000</td>\n",
              "      <td>NaN</td>\n",
              "      <td>NaN</td>\n",
              "      <td>NaN</td>\n",
              "      <td>NaN</td>\n",
              "      <td>NaN</td>\n",
              "      <td>NaN</td>\n",
              "      <td>NaN</td>\n",
              "      <td>NaN</td>\n",
              "      <td>NaN</td>\n",
              "    </tr>\n",
              "    <tr>\n",
              "      <th>GrLivArea</th>\n",
              "      <td>NaN</td>\n",
              "      <td>NaN</td>\n",
              "      <td>NaN</td>\n",
              "      <td>NaN</td>\n",
              "      <td>NaN</td>\n",
              "      <td>NaN</td>\n",
              "      <td>NaN</td>\n",
              "      <td>1.000</td>\n",
              "      <td>NaN</td>\n",
              "      <td>NaN</td>\n",
              "      <td>0.808</td>\n",
              "      <td>NaN</td>\n",
              "      <td>NaN</td>\n",
              "      <td>NaN</td>\n",
              "      <td>NaN</td>\n",
              "      <td>NaN</td>\n",
              "    </tr>\n",
              "    <tr>\n",
              "      <th>FullBath</th>\n",
              "      <td>NaN</td>\n",
              "      <td>NaN</td>\n",
              "      <td>NaN</td>\n",
              "      <td>NaN</td>\n",
              "      <td>NaN</td>\n",
              "      <td>NaN</td>\n",
              "      <td>NaN</td>\n",
              "      <td>NaN</td>\n",
              "      <td>1.000</td>\n",
              "      <td>NaN</td>\n",
              "      <td>NaN</td>\n",
              "      <td>NaN</td>\n",
              "      <td>NaN</td>\n",
              "      <td>NaN</td>\n",
              "      <td>NaN</td>\n",
              "      <td>NaN</td>\n",
              "    </tr>\n",
              "    <tr>\n",
              "      <th>KitchenQual</th>\n",
              "      <td>NaN</td>\n",
              "      <td>NaN</td>\n",
              "      <td>NaN</td>\n",
              "      <td>NaN</td>\n",
              "      <td>NaN</td>\n",
              "      <td>NaN</td>\n",
              "      <td>NaN</td>\n",
              "      <td>NaN</td>\n",
              "      <td>NaN</td>\n",
              "      <td>1.000</td>\n",
              "      <td>NaN</td>\n",
              "      <td>NaN</td>\n",
              "      <td>NaN</td>\n",
              "      <td>NaN</td>\n",
              "      <td>NaN</td>\n",
              "      <td>NaN</td>\n",
              "    </tr>\n",
              "    <tr>\n",
              "      <th>TotRmsAbvGrd</th>\n",
              "      <td>NaN</td>\n",
              "      <td>NaN</td>\n",
              "      <td>NaN</td>\n",
              "      <td>NaN</td>\n",
              "      <td>NaN</td>\n",
              "      <td>NaN</td>\n",
              "      <td>NaN</td>\n",
              "      <td>0.808</td>\n",
              "      <td>NaN</td>\n",
              "      <td>NaN</td>\n",
              "      <td>1.000</td>\n",
              "      <td>NaN</td>\n",
              "      <td>NaN</td>\n",
              "      <td>NaN</td>\n",
              "      <td>NaN</td>\n",
              "      <td>NaN</td>\n",
              "    </tr>\n",
              "    <tr>\n",
              "      <th>Fireplaces</th>\n",
              "      <td>NaN</td>\n",
              "      <td>NaN</td>\n",
              "      <td>NaN</td>\n",
              "      <td>NaN</td>\n",
              "      <td>NaN</td>\n",
              "      <td>NaN</td>\n",
              "      <td>NaN</td>\n",
              "      <td>NaN</td>\n",
              "      <td>NaN</td>\n",
              "      <td>NaN</td>\n",
              "      <td>NaN</td>\n",
              "      <td>1.000</td>\n",
              "      <td>0.862</td>\n",
              "      <td>NaN</td>\n",
              "      <td>NaN</td>\n",
              "      <td>NaN</td>\n",
              "    </tr>\n",
              "    <tr>\n",
              "      <th>FireplaceQu</th>\n",
              "      <td>NaN</td>\n",
              "      <td>NaN</td>\n",
              "      <td>NaN</td>\n",
              "      <td>NaN</td>\n",
              "      <td>NaN</td>\n",
              "      <td>NaN</td>\n",
              "      <td>NaN</td>\n",
              "      <td>NaN</td>\n",
              "      <td>NaN</td>\n",
              "      <td>NaN</td>\n",
              "      <td>NaN</td>\n",
              "      <td>0.862</td>\n",
              "      <td>1.000</td>\n",
              "      <td>NaN</td>\n",
              "      <td>NaN</td>\n",
              "      <td>NaN</td>\n",
              "    </tr>\n",
              "    <tr>\n",
              "      <th>GarageCars</th>\n",
              "      <td>NaN</td>\n",
              "      <td>NaN</td>\n",
              "      <td>NaN</td>\n",
              "      <td>NaN</td>\n",
              "      <td>NaN</td>\n",
              "      <td>NaN</td>\n",
              "      <td>NaN</td>\n",
              "      <td>NaN</td>\n",
              "      <td>NaN</td>\n",
              "      <td>NaN</td>\n",
              "      <td>NaN</td>\n",
              "      <td>NaN</td>\n",
              "      <td>NaN</td>\n",
              "      <td>1.000</td>\n",
              "      <td>0.890</td>\n",
              "      <td>NaN</td>\n",
              "    </tr>\n",
              "    <tr>\n",
              "      <th>GarageArea</th>\n",
              "      <td>NaN</td>\n",
              "      <td>NaN</td>\n",
              "      <td>NaN</td>\n",
              "      <td>NaN</td>\n",
              "      <td>NaN</td>\n",
              "      <td>NaN</td>\n",
              "      <td>NaN</td>\n",
              "      <td>NaN</td>\n",
              "      <td>NaN</td>\n",
              "      <td>NaN</td>\n",
              "      <td>NaN</td>\n",
              "      <td>NaN</td>\n",
              "      <td>NaN</td>\n",
              "      <td>0.890</td>\n",
              "      <td>1.000</td>\n",
              "      <td>NaN</td>\n",
              "    </tr>\n",
              "    <tr>\n",
              "      <th>SalePrice</th>\n",
              "      <td>NaN</td>\n",
              "      <td>NaN</td>\n",
              "      <td>NaN</td>\n",
              "      <td>NaN</td>\n",
              "      <td>NaN</td>\n",
              "      <td>NaN</td>\n",
              "      <td>NaN</td>\n",
              "      <td>NaN</td>\n",
              "      <td>NaN</td>\n",
              "      <td>NaN</td>\n",
              "      <td>NaN</td>\n",
              "      <td>NaN</td>\n",
              "      <td>NaN</td>\n",
              "      <td>NaN</td>\n",
              "      <td>NaN</td>\n",
              "      <td>1.000</td>\n",
              "    </tr>\n",
              "  </tbody>\n",
              "</table>\n",
              "</div>\n",
              "      <button class=\"colab-df-convert\" onclick=\"convertToInteractive('df-b48ebb8b-c6a6-4f4c-ae43-ca5c5d2dfb85')\"\n",
              "              title=\"Convert this dataframe to an interactive table.\"\n",
              "              style=\"display:none;\">\n",
              "        \n",
              "  <svg xmlns=\"http://www.w3.org/2000/svg\" height=\"24px\"viewBox=\"0 0 24 24\"\n",
              "       width=\"24px\">\n",
              "    <path d=\"M0 0h24v24H0V0z\" fill=\"none\"/>\n",
              "    <path d=\"M18.56 5.44l.94 2.06.94-2.06 2.06-.94-2.06-.94-.94-2.06-.94 2.06-2.06.94zm-11 1L8.5 8.5l.94-2.06 2.06-.94-2.06-.94L8.5 2.5l-.94 2.06-2.06.94zm10 10l.94 2.06.94-2.06 2.06-.94-2.06-.94-.94-2.06-.94 2.06-2.06.94z\"/><path d=\"M17.41 7.96l-1.37-1.37c-.4-.4-.92-.59-1.43-.59-.52 0-1.04.2-1.43.59L10.3 9.45l-7.72 7.72c-.78.78-.78 2.05 0 2.83L4 21.41c.39.39.9.59 1.41.59.51 0 1.02-.2 1.41-.59l7.78-7.78 2.81-2.81c.8-.78.8-2.07 0-2.86zM5.41 20L4 18.59l7.72-7.72 1.47 1.35L5.41 20z\"/>\n",
              "  </svg>\n",
              "      </button>\n",
              "      \n",
              "  <style>\n",
              "    .colab-df-container {\n",
              "      display:flex;\n",
              "      flex-wrap:wrap;\n",
              "      gap: 12px;\n",
              "    }\n",
              "\n",
              "    .colab-df-convert {\n",
              "      background-color: #E8F0FE;\n",
              "      border: none;\n",
              "      border-radius: 50%;\n",
              "      cursor: pointer;\n",
              "      display: none;\n",
              "      fill: #1967D2;\n",
              "      height: 32px;\n",
              "      padding: 0 0 0 0;\n",
              "      width: 32px;\n",
              "    }\n",
              "\n",
              "    .colab-df-convert:hover {\n",
              "      background-color: #E2EBFA;\n",
              "      box-shadow: 0px 1px 2px rgba(60, 64, 67, 0.3), 0px 1px 3px 1px rgba(60, 64, 67, 0.15);\n",
              "      fill: #174EA6;\n",
              "    }\n",
              "\n",
              "    [theme=dark] .colab-df-convert {\n",
              "      background-color: #3B4455;\n",
              "      fill: #D2E3FC;\n",
              "    }\n",
              "\n",
              "    [theme=dark] .colab-df-convert:hover {\n",
              "      background-color: #434B5C;\n",
              "      box-shadow: 0px 1px 3px 1px rgba(0, 0, 0, 0.15);\n",
              "      filter: drop-shadow(0px 1px 2px rgba(0, 0, 0, 0.3));\n",
              "      fill: #FFFFFF;\n",
              "    }\n",
              "  </style>\n",
              "\n",
              "      <script>\n",
              "        const buttonEl =\n",
              "          document.querySelector('#df-b48ebb8b-c6a6-4f4c-ae43-ca5c5d2dfb85 button.colab-df-convert');\n",
              "        buttonEl.style.display =\n",
              "          google.colab.kernel.accessAllowed ? 'block' : 'none';\n",
              "\n",
              "        async function convertToInteractive(key) {\n",
              "          const element = document.querySelector('#df-b48ebb8b-c6a6-4f4c-ae43-ca5c5d2dfb85');\n",
              "          const dataTable =\n",
              "            await google.colab.kernel.invokeFunction('convertToInteractive',\n",
              "                                                     [key], {});\n",
              "          if (!dataTable) return;\n",
              "\n",
              "          const docLinkHtml = 'Like what you see? Visit the ' +\n",
              "            '<a target=\"_blank\" href=https://colab.research.google.com/notebooks/data_table.ipynb>data table notebook</a>'\n",
              "            + ' to learn more about interactive tables.';\n",
              "          element.innerHTML = '';\n",
              "          dataTable['output_type'] = 'display_data';\n",
              "          await google.colab.output.renderOutput(dataTable, element);\n",
              "          const docLink = document.createElement('div');\n",
              "          docLink.innerHTML = docLinkHtml;\n",
              "          element.appendChild(docLink);\n",
              "        }\n",
              "      </script>\n",
              "    </div>\n",
              "  </div>\n",
              "  "
            ]
          },
          "metadata": {},
          "execution_count": 76
        }
      ]
    },
    {
      "cell_type": "markdown",
      "source": [
        "As features com correlação entre si maior que 0.8 são:\n",
        "* 1stFlrSF e TotalBsmtSF\n",
        "* GrLivArea e TotRmsAbvGrd\n",
        "* Fireplaces e FireplaceQu\n",
        "* GarageArea e GarageCars\n",
        "\n",
        "Destas so precisamos da primeira, portanto vamos remover a segunda."
      ],
      "metadata": {
        "id": "j_5QCr8zqZJ_"
      }
    },
    {
      "cell_type": "code",
      "source": [
        "duplo = ['TotalBsmtSF', 'TotRmsAbvGrd', 'FireplaceQu', 'GarageCars']\n",
        "dataset.drop(duplo, axis=1, inplace=True)"
      ],
      "metadata": {
        "id": "I_gB7y7ErzDB"
      },
      "execution_count": null,
      "outputs": []
    },
    {
      "cell_type": "markdown",
      "source": [
        "## Outliers"
      ],
      "metadata": {
        "id": "qktD_i_fvihJ"
      }
    },
    {
      "cell_type": "markdown",
      "source": [
        "A feature \"GrLivArea\" é a que tem maior correlação com o preço das casas. Vamos analisar a o scatterplot das duas."
      ],
      "metadata": {
        "id": "i1ry2YZ4vlTk"
      }
    },
    {
      "cell_type": "code",
      "source": [
        "fig, ax = plt.subplots()\n",
        "ax.scatter(x=dataset['GrLivArea'], y=dataset['SalePrice'])\n",
        "plt.ylabel('SalePrice', fontsize=10)\n",
        "plt.xlabel('GrLivArea', fontsize=10)\n",
        "plt.show()"
      ],
      "metadata": {
        "colab": {
          "base_uri": "https://localhost:8080/",
          "height": 262
        },
        "id": "BCXDjRBJvm0N",
        "outputId": "66e70a4d-4d90-4238-8bc9-bea0948972bf"
      },
      "execution_count": null,
      "outputs": [
        {
          "output_type": "display_data",
          "data": {
            "text/plain": [
              "<Figure size 792x504 with 1 Axes>"
            ],
            "image/png": "[encoded data removed]"
          },
          "metadata": {}
        }
      ]
    },
    {
      "cell_type": "markdown",
      "source": [
        "Os dois valores com grande área e baixo preço são seguramente outliers, já os dois valores com alto preço seguem a linha de tendência e vamos mantê-los."
      ],
      "metadata": {
        "id": "3ftO2GCAx5md"
      }
    },
    {
      "cell_type": "code",
      "source": [
        "outlier = train.loc[(train['GrLivArea']>4000) & (train['SalePrice']<300000)]\n",
        "dataset = dataset.drop(outlier.index)\n",
        "\n",
        "fig, ax = plt.subplots()\n",
        "ax.scatter(dataset['GrLivArea'], dataset['SalePrice'])\n",
        "plt.ylabel('SalePrice', fontsize=10)\n",
        "plt.xlabel('GrLivArea', fontsize=10)\n",
        "plt.show()"
      ],
      "metadata": {
        "colab": {
          "base_uri": "https://localhost:8080/",
          "height": 262
        },
        "id": "4HtX2X4Jx529",
        "outputId": "1cf699ec-48a2-4699-99a9-12c98b85d22e"
      },
      "execution_count": null,
      "outputs": [
        {
          "output_type": "display_data",
          "data": {
            "text/plain": [
              "<Figure size 792x504 with 1 Axes>"
            ],
            "image/png": "[encoded data removed]"
          },
          "metadata": {}
        }
      ]
    },
    {
      "cell_type": "markdown",
      "source": [
        "## Alvo"
      ],
      "metadata": {
        "id": "AkVBegnzIFeK"
      }
    },
    {
      "cell_type": "markdown",
      "source": [
        "Uma breve descrição do nosso alvo:"
      ],
      "metadata": {
        "id": "l644_psKIIL8"
      }
    },
    {
      "cell_type": "code",
      "source": [
        "dataset['SalePrice'].describe()"
      ],
      "metadata": {
        "colab": {
          "base_uri": "https://localhost:8080/"
        },
        "id": "tcio02J9HSdW",
        "outputId": "7d5d0279-478e-4f5f-e41c-c4117e5f678a"
      },
      "execution_count": null,
      "outputs": [
        {
          "output_type": "execute_result",
          "data": {
            "text/plain": [
              "count     1458.000\n",
              "mean    180932.919\n",
              "std      79495.055\n",
              "min      34900.000\n",
              "25%     129925.000\n",
              "50%     163000.000\n",
              "75%     214000.000\n",
              "max     755000.000\n",
              "Name: SalePrice, dtype: float64"
            ]
          },
          "metadata": {},
          "execution_count": 80
        }
      ]
    },
    {
      "cell_type": "markdown",
      "source": [
        "\n",
        "Graficamente vemos que:\n",
        "\n",
        "* Parece com uma curva normal;\n",
        "* Tem uma assimetria à direita (positiva);\n",
        "* Tem um pico (leptocúrtica, curtose > 3)."
      ],
      "metadata": {
        "id": "4myk9APmJ80a"
      }
    },
    {
      "cell_type": "code",
      "source": [
        "print(f\"Skewness: {dataset['SalePrice'].skew(): .2f}\")\n",
        "print(f\"Kurtosis: {dataset['SalePrice'].kurt(): .2f}\")"
      ],
      "metadata": {
        "colab": {
          "base_uri": "https://localhost:8080/"
        },
        "id": "CQvjNF5cLWDO",
        "outputId": "9077cdb4-44ba-449f-e826-2a16ce83f93d"
      },
      "execution_count": null,
      "outputs": [
        {
          "output_type": "stream",
          "name": "stdout",
          "text": [
            "Skewness:  1.88\n",
            "Kurtosis:  6.52\n"
          ]
        }
      ]
    },
    {
      "cell_type": "code",
      "source": [
        "sns.histplot(dataset['SalePrice'], kde=True);"
      ],
      "metadata": {
        "colab": {
          "base_uri": "https://localhost:8080/",
          "height": 270
        },
        "id": "y4SQsc3oJ9C4",
        "outputId": "83cf6d2c-8c26-417b-f8c0-04c8b56da8cb"
      },
      "execution_count": null,
      "outputs": [
        {
          "output_type": "display_data",
          "data": {
            "text/plain": [
              "<Figure size 792x504 with 1 Axes>"
            ],
            "image/png": "[encoded data removed]"
          },
          "metadata": {}
        }
      ]
    },
    {
      "cell_type": "markdown",
      "source": [
        "Além disso, 'SalePrice' não segue a diagonal no plot de probabilidade."
      ],
      "metadata": {
        "id": "gwTHEN1qtt_f"
      }
    },
    {
      "cell_type": "code",
      "source": [
        "stats.probplot(dataset['SalePrice'][:1458], plot=plt)\n",
        "plt.show()"
      ],
      "metadata": {
        "colab": {
          "base_uri": "https://localhost:8080/",
          "height": 272
        },
        "id": "KQ6aHj_8vIxo",
        "outputId": "dc806e8f-9ee0-439e-d4a3-8874374a2421"
      },
      "execution_count": null,
      "outputs": [
        {
          "output_type": "display_data",
          "data": {
            "text/plain": [
              "<Figure size 792x504 with 1 Axes>"
            ],
            "image/png": "[encoded data removed]"
          },
          "metadata": {}
        }
      ]
    },
    {
      "cell_type": "markdown",
      "source": [
        "Vamos fazer uma transformação logarítmica na curva. Como temos valores iguais a zero, vamos somar com 1 cada valor antes. A função log1p da numpy já faz todo o trabalho."
      ],
      "metadata": {
        "id": "ELOepXjf1IBX"
      }
    },
    {
      "cell_type": "code",
      "source": [
        "dataset[\"SalePrice\"] = np.log1p(dataset[\"SalePrice\"])"
      ],
      "metadata": {
        "id": "YZK0WUDu3-pf"
      },
      "execution_count": null,
      "outputs": []
    },
    {
      "cell_type": "markdown",
      "source": [
        "Isso é suficiente para normalizar a curva."
      ],
      "metadata": {
        "id": "wO7my9Da4Daf"
      }
    },
    {
      "cell_type": "code",
      "source": [
        "sns.histplot(dataset['SalePrice'], kde=True);"
      ],
      "metadata": {
        "colab": {
          "base_uri": "https://localhost:8080/",
          "height": 270
        },
        "id": "ZAFiW0Em4Drx",
        "outputId": "a52bb855-d3dd-4458-8490-2553600b597f"
      },
      "execution_count": null,
      "outputs": [
        {
          "output_type": "display_data",
          "data": {
            "text/plain": [
              "<Figure size 792x504 with 1 Axes>"
            ],
            "image/png": "[encoded data removed]"
          },
          "metadata": {}
        }
      ]
    },
    {
      "cell_type": "code",
      "source": [
        "stats.probplot(dataset['SalePrice'][:1458], plot=plt)\n",
        "plt.show()"
      ],
      "metadata": {
        "colab": {
          "base_uri": "https://localhost:8080/",
          "height": 278
        },
        "id": "o4blSP3S4L_u",
        "outputId": "004a431b-b66c-4868-91e1-dfba9e6f6b36"
      },
      "execution_count": null,
      "outputs": [
        {
          "output_type": "display_data",
          "data": {
            "text/plain": [
              "<Figure size 792x504 with 1 Axes>"
            ],
            "image/png": "[encoded data removed]"
          },
          "metadata": {}
        }
      ]
    },
    {
      "cell_type": "markdown",
      "source": [
        "Agora vamos trabalhar a assimetria das outras features."
      ],
      "metadata": {
        "id": "_rZXe9RB5Wlv"
      }
    },
    {
      "cell_type": "code",
      "source": [
        "num_feats = dataset.drop('SalePrice', axis=1).dtypes[dataset.dtypes != \"object\"].index\n",
        "\n",
        "skew_feats = dataset[num_feats].apply(lambda x: skew(x.dropna())).sort_values(ascending=False)\n",
        "skewness = pd.DataFrame({'Skew' :skew_feats})\n",
        "skewness[skewness['Skew'] > 1]"
      ],
      "metadata": {
        "colab": {
          "base_uri": "https://localhost:8080/",
          "height": 614
        },
        "id": "XYRx3v3i5XLv",
        "outputId": "e4e4c81d-d188-4119-d04c-da1945b9d63a"
      },
      "execution_count": null,
      "outputs": [
        {
          "output_type": "execute_result",
          "data": {
            "text/plain": [
              "                Skew\n",
              "MiscVal       21.940\n",
              "PoolQC        19.549\n",
              "PoolArea      17.689\n",
              "LotArea       13.109\n",
              "LowQualFinSF  12.085\n",
              "3SsnPorch     11.372\n",
              "KitchenAbvGr   4.301\n",
              "BsmtFinSF2     4.145\n",
              "EnclosedPorch  4.002\n",
              "ScreenPorch    3.945\n",
              "BsmtHalfBath   3.930\n",
              "MasVnrArea     2.622\n",
              "OpenPorchSF    2.529\n",
              "WoodDeckSF     1.845\n",
              "ExterCond      1.315\n",
              "1stFlrSF       1.257\n",
              "LotFrontage    1.103\n",
              "GrLivArea      1.069"
            ],
            "text/html": [
              "\n",
              "  <div id=\"df-b672d050-611d-41f3-a51b-2525eff9e36c\">\n",
              "    <div class=\"colab-df-container\">\n",
              "      <div>\n",
              "<style scoped>\n",
              "    .dataframe tbody tr th:only-of-type {\n",
              "        vertical-align: middle;\n",
              "    }\n",
              "\n",
              "    .dataframe tbody tr th {\n",
              "        vertical-align: top;\n",
              "    }\n",
              "\n",
              "    .dataframe thead th {\n",
              "        text-align: right;\n",
              "    }\n",
              "</style>\n",
              "<table border=\"1\" class=\"dataframe\">\n",
              "  <thead>\n",
              "    <tr style=\"text-align: right;\">\n",
              "      <th></th>\n",
              "      <th>Skew</th>\n",
              "    </tr>\n",
              "  </thead>\n",
              "  <tbody>\n",
              "    <tr>\n",
              "      <th>MiscVal</th>\n",
              "      <td>21.940</td>\n",
              "    </tr>\n",
              "    <tr>\n",
              "      <th>PoolQC</th>\n",
              "      <td>19.549</td>\n",
              "    </tr>\n",
              "    <tr>\n",
              "      <th>PoolArea</th>\n",
              "      <td>17.689</td>\n",
              "    </tr>\n",
              "    <tr>\n",
              "      <th>LotArea</th>\n",
              "      <td>13.109</td>\n",
              "    </tr>\n",
              "    <tr>\n",
              "      <th>LowQualFinSF</th>\n",
              "      <td>12.085</td>\n",
              "    </tr>\n",
              "    <tr>\n",
              "      <th>3SsnPorch</th>\n",
              "      <td>11.372</td>\n",
              "    </tr>\n",
              "    <tr>\n",
              "      <th>KitchenAbvGr</th>\n",
              "      <td>4.301</td>\n",
              "    </tr>\n",
              "    <tr>\n",
              "      <th>BsmtFinSF2</th>\n",
              "      <td>4.145</td>\n",
              "    </tr>\n",
              "    <tr>\n",
              "      <th>EnclosedPorch</th>\n",
              "      <td>4.002</td>\n",
              "    </tr>\n",
              "    <tr>\n",
              "      <th>ScreenPorch</th>\n",
              "      <td>3.945</td>\n",
              "    </tr>\n",
              "    <tr>\n",
              "      <th>BsmtHalfBath</th>\n",
              "      <td>3.930</td>\n",
              "    </tr>\n",
              "    <tr>\n",
              "      <th>MasVnrArea</th>\n",
              "      <td>2.622</td>\n",
              "    </tr>\n",
              "    <tr>\n",
              "      <th>OpenPorchSF</th>\n",
              "      <td>2.529</td>\n",
              "    </tr>\n",
              "    <tr>\n",
              "      <th>WoodDeckSF</th>\n",
              "      <td>1.845</td>\n",
              "    </tr>\n",
              "    <tr>\n",
              "      <th>ExterCond</th>\n",
              "      <td>1.315</td>\n",
              "    </tr>\n",
              "    <tr>\n",
              "      <th>1stFlrSF</th>\n",
              "      <td>1.257</td>\n",
              "    </tr>\n",
              "    <tr>\n",
              "      <th>LotFrontage</th>\n",
              "      <td>1.103</td>\n",
              "    </tr>\n",
              "    <tr>\n",
              "      <th>GrLivArea</th>\n",
              "      <td>1.069</td>\n",
              "    </tr>\n",
              "  </tbody>\n",
              "</table>\n",
              "</div>\n",
              "      <button class=\"colab-df-convert\" onclick=\"convertToInteractive('df-b672d050-611d-41f3-a51b-2525eff9e36c')\"\n",
              "              title=\"Convert this dataframe to an interactive table.\"\n",
              "              style=\"display:none;\">\n",
              "        \n",
              "  <svg xmlns=\"http://www.w3.org/2000/svg\" height=\"24px\"viewBox=\"0 0 24 24\"\n",
              "       width=\"24px\">\n",
              "    <path d=\"M0 0h24v24H0V0z\" fill=\"none\"/>\n",
              "    <path d=\"M18.56 5.44l.94 2.06.94-2.06 2.06-.94-2.06-.94-.94-2.06-.94 2.06-2.06.94zm-11 1L8.5 8.5l.94-2.06 2.06-.94-2.06-.94L8.5 2.5l-.94 2.06-2.06.94zm10 10l.94 2.06.94-2.06 2.06-.94-2.06-.94-.94-2.06-.94 2.06-2.06.94z\"/><path d=\"M17.41 7.96l-1.37-1.37c-.4-.4-.92-.59-1.43-.59-.52 0-1.04.2-1.43.59L10.3 9.45l-7.72 7.72c-.78.78-.78 2.05 0 2.83L4 21.41c.39.39.9.59 1.41.59.51 0 1.02-.2 1.41-.59l7.78-7.78 2.81-2.81c.8-.78.8-2.07 0-2.86zM5.41 20L4 18.59l7.72-7.72 1.47 1.35L5.41 20z\"/>\n",
              "  </svg>\n",
              "      </button>\n",
              "      \n",
              "  <style>\n",
              "    .colab-df-container {\n",
              "      display:flex;\n",
              "      flex-wrap:wrap;\n",
              "      gap: 12px;\n",
              "    }\n",
              "\n",
              "    .colab-df-convert {\n",
              "      background-color: #E8F0FE;\n",
              "      border: none;\n",
              "      border-radius: 50%;\n",
              "      cursor: pointer;\n",
              "      display: none;\n",
              "      fill: #1967D2;\n",
              "      height: 32px;\n",
              "      padding: 0 0 0 0;\n",
              "      width: 32px;\n",
              "    }\n",
              "\n",
              "    .colab-df-convert:hover {\n",
              "      background-color: #E2EBFA;\n",
              "      box-shadow: 0px 1px 2px rgba(60, 64, 67, 0.3), 0px 1px 3px 1px rgba(60, 64, 67, 0.15);\n",
              "      fill: #174EA6;\n",
              "    }\n",
              "\n",
              "    [theme=dark] .colab-df-convert {\n",
              "      background-color: #3B4455;\n",
              "      fill: #D2E3FC;\n",
              "    }\n",
              "\n",
              "    [theme=dark] .colab-df-convert:hover {\n",
              "      background-color: #434B5C;\n",
              "      box-shadow: 0px 1px 3px 1px rgba(0, 0, 0, 0.15);\n",
              "      filter: drop-shadow(0px 1px 2px rgba(0, 0, 0, 0.3));\n",
              "      fill: #FFFFFF;\n",
              "    }\n",
              "  </style>\n",
              "\n",
              "      <script>\n",
              "        const buttonEl =\n",
              "          document.querySelector('#df-b672d050-611d-41f3-a51b-2525eff9e36c button.colab-df-convert');\n",
              "        buttonEl.style.display =\n",
              "          google.colab.kernel.accessAllowed ? 'block' : 'none';\n",
              "\n",
              "        async function convertToInteractive(key) {\n",
              "          const element = document.querySelector('#df-b672d050-611d-41f3-a51b-2525eff9e36c');\n",
              "          const dataTable =\n",
              "            await google.colab.kernel.invokeFunction('convertToInteractive',\n",
              "                                                     [key], {});\n",
              "          if (!dataTable) return;\n",
              "\n",
              "          const docLinkHtml = 'Like what you see? Visit the ' +\n",
              "            '<a target=\"_blank\" href=https://colab.research.google.com/notebooks/data_table.ipynb>data table notebook</a>'\n",
              "            + ' to learn more about interactive tables.';\n",
              "          element.innerHTML = '';\n",
              "          dataTable['output_type'] = 'display_data';\n",
              "          await google.colab.output.renderOutput(dataTable, element);\n",
              "          const docLink = document.createElement('div');\n",
              "          docLink.innerHTML = docLinkHtml;\n",
              "          element.appendChild(docLink);\n",
              "        }\n",
              "      </script>\n",
              "    </div>\n",
              "  </div>\n",
              "  "
            ]
          },
          "metadata": {},
          "execution_count": 87
        }
      ]
    },
    {
      "cell_type": "markdown",
      "source": [
        "Para estas features, vamos usar a transformação Cox-Box, que é um passo além da transformação logarítmica."
      ],
      "metadata": {
        "id": "GYCNMnAN6pXh"
      }
    },
    {
      "cell_type": "code",
      "source": [
        "skewness = skewness[abs(skewness) > 0.75]\n",
        "\n",
        "skewed_features = skewness.index\n",
        "lamb = 0.15\n",
        "for feat in skewed_features:\n",
        "    dataset[feat] = boxcox1p(dataset[feat], lamb)"
      ],
      "metadata": {
        "id": "ZxpNzN6G6pqX"
      },
      "execution_count": null,
      "outputs": []
    },
    {
      "cell_type": "markdown",
      "source": [
        "## One-Hot Encoding"
      ],
      "metadata": {
        "id": "Q5icCZDY8QrK"
      }
    },
    {
      "cell_type": "markdown",
      "source": [
        "Caso substituíssemos os valores das features categóricas por números (0, 1, 2...), o modelo iria interpretar que o valor 2 é maior que 1 e 0 e não queremos isso. Para o Modelo ter a interpretação correta, vamos usar o One-Hot Encoding nelas."
      ],
      "metadata": {
        "id": "jp9u7YTWnmOY"
      }
    },
    {
      "cell_type": "code",
      "source": [
        "dataset = pd.get_dummies(dataset)"
      ],
      "metadata": {
        "id": "rG7_vrY28QJp"
      },
      "execution_count": null,
      "outputs": []
    },
    {
      "cell_type": "markdown",
      "source": [
        "Com todos os ajustes, vamos separar novamente o treino do teste."
      ],
      "metadata": {
        "id": "zaxDbyRX9Fo2"
      }
    },
    {
      "cell_type": "code",
      "source": [
        "train = dataset[:1458]\n",
        "y_train = train['SalePrice'].values\n",
        "train = train.drop('SalePrice', axis=1)\n",
        "test = dataset[1458:]\n",
        "test = test.drop('SalePrice', axis=1)"
      ],
      "metadata": {
        "id": "BUHshyzl9DzY"
      },
      "execution_count": null,
      "outputs": []
    },
    {
      "cell_type": "code",
      "source": [
        "print(f\"Tamanho do treino: {len(train)}\")\n",
        "print(f\"Tamanho do teste: {len(test)}\")"
      ],
      "metadata": {
        "colab": {
          "base_uri": "https://localhost:8080/"
        },
        "id": "QThZrsKV9Gzc",
        "outputId": "3ee84181-27f4-413a-9773-b23033a290c6"
      },
      "execution_count": null,
      "outputs": [
        {
          "output_type": "stream",
          "name": "stdout",
          "text": [
            "Tamanho do treino: 1458\n",
            "Tamanho do teste: 1459\n"
          ]
        }
      ]
    },
    {
      "cell_type": "markdown",
      "source": [
        "## Construção dos modelos"
      ],
      "metadata": {
        "id": "-LhU_9vt9dHa"
      }
    },
    {
      "cell_type": "code",
      "source": [
        "from sklearn.linear_model import ElasticNet, Lasso, BayesianRidge, LassoLarsIC\n",
        "from sklearn.ensemble import RandomForestRegressor, GradientBoostingRegressor\n",
        "from sklearn.kernel_ridge import KernelRidge\n",
        "from sklearn.pipeline import make_pipeline\n",
        "from sklearn.preprocessing import RobustScaler\n",
        "from sklearn.base import BaseEstimator, TransformerMixin, RegressorMixin, clone\n",
        "from sklearn.model_selection import KFold, cross_val_score, train_test_split\n",
        "from sklearn.metrics import mean_squared_error\n",
        "import xgboost as xgb\n",
        "import lightgbm as lgb"
      ],
      "metadata": {
        "id": "JSuq07kl9cwS"
      },
      "execution_count": null,
      "outputs": []
    },
    {
      "cell_type": "markdown",
      "source": [
        "**Validador**"
      ],
      "metadata": {
        "id": "Ri0u6LlqAeCL"
      }
    },
    {
      "cell_type": "code",
      "source": [
        "def rmsle_cv(model, folds=5):\n",
        "    kf = KFold(folds, shuffle=True, random_state=69).get_n_splits(train.values)\n",
        "    rmse= np.sqrt(-cross_val_score(model, train.values, y_train, scoring=\"neg_mean_squared_error\", cv = kf))\n",
        "    return(rmse)"
      ],
      "metadata": {
        "id": "hFONo081AU74"
      },
      "execution_count": null,
      "outputs": []
    },
    {
      "cell_type": "markdown",
      "source": [
        ""
      ],
      "metadata": {
        "id": "62Bj4mA3Fmmh"
      }
    },
    {
      "cell_type": "code",
      "source": [
        "def rmsle(y, y_pred):\n",
        "    return np.sqrt(mean_squared_error(y, y_pred))"
      ],
      "metadata": {
        "id": "BuWLS1C1Fm7I"
      },
      "execution_count": null,
      "outputs": []
    },
    {
      "cell_type": "markdown",
      "source": [
        "**Lasso**"
      ],
      "metadata": {
        "id": "i-QF3pRpBqQo"
      }
    },
    {
      "cell_type": "code",
      "source": [
        "lasso = make_pipeline(RobustScaler(), Lasso(alpha =0.0005, random_state=69))"
      ],
      "metadata": {
        "id": "5NaKz_wYBqcP"
      },
      "execution_count": null,
      "outputs": []
    },
    {
      "cell_type": "markdown",
      "source": [
        "**Elastic Net Regression**"
      ],
      "metadata": {
        "id": "8sjyVnUcB1Xn"
      }
    },
    {
      "cell_type": "code",
      "source": [
        "ENet = make_pipeline(RobustScaler(), ElasticNet(alpha=0.0005, l1_ratio=0.9, random_state=69))"
      ],
      "metadata": {
        "id": "XLLWyBexB1mB"
      },
      "execution_count": null,
      "outputs": []
    },
    {
      "cell_type": "markdown",
      "source": [
        "**Kernel Ridge Regression**"
      ],
      "metadata": {
        "id": "BNvOtMESCCCS"
      }
    },
    {
      "cell_type": "code",
      "source": [
        "KRR = KernelRidge(alpha=0.6, kernel='polynomial', degree=2, coef0=2.5)"
      ],
      "metadata": {
        "id": "zJ8uZ2u1CCTf"
      },
      "execution_count": null,
      "outputs": []
    },
    {
      "cell_type": "markdown",
      "source": [
        "**Gradient Boosting Regression**"
      ],
      "metadata": {
        "id": "dS5HatHuCMwT"
      }
    },
    {
      "cell_type": "code",
      "source": [
        "GBoost = GradientBoostingRegressor(n_estimators=3000, learning_rate=0.05,\n",
        "                                   max_depth=4, max_features='sqrt',\n",
        "                                   min_samples_leaf=15, min_samples_split=10, \n",
        "                                   loss='huber', random_state =69)"
      ],
      "metadata": {
        "id": "aMMSYhc7CNAV"
      },
      "execution_count": null,
      "outputs": []
    },
    {
      "cell_type": "markdown",
      "source": [
        "**XGBoost**"
      ],
      "metadata": {
        "id": "0emR3iHOCcEy"
      }
    },
    {
      "cell_type": "code",
      "source": [
        "model_xgb = xgb.XGBRegressor(colsample_bytree=0.4, gamma=0.04, \n",
        "                             learning_rate=0.05, max_depth=3, \n",
        "                             min_child_weight=1.7, n_estimators=2200,\n",
        "                             reg_alpha=0.4, reg_lambda=0.8,\n",
        "                             subsample=0.5, silent=1,\n",
        "                             random_state =69, nthread = -1)"
      ],
      "metadata": {
        "id": "7wuyyVtACcV5"
      },
      "execution_count": null,
      "outputs": []
    },
    {
      "cell_type": "markdown",
      "source": [
        "**LightGBM**"
      ],
      "metadata": {
        "id": "c3L_CjJjCxPu"
      }
    },
    {
      "cell_type": "code",
      "source": [
        "model_lgb = lgb.LGBMRegressor(objective='regression', num_leaves=5,\n",
        "                              learning_rate=0.05, n_estimators=720,\n",
        "                              max_bin = 55, bagging_fraction = 0.8,\n",
        "                              bagging_freq = 5, feature_fraction = 0.2,\n",
        "                              feature_fraction_seed=9, bagging_seed=9,\n",
        "                              min_data_in_leaf =6, min_sum_hessian_in_leaf = 11)"
      ],
      "metadata": {
        "id": "au5Vqal8Cxhx"
      },
      "execution_count": null,
      "outputs": []
    },
    {
      "cell_type": "code",
      "source": [
        "modelos = [lasso, ENet, KRR, GBoost, model_xgb, model_lgb]"
      ],
      "metadata": {
        "id": "EV4Pkey-DBJO"
      },
      "execution_count": null,
      "outputs": []
    },
    {
      "cell_type": "markdown",
      "source": [
        "Vamos avaliar cada modelo com uma validação cruzada de 5 folds."
      ],
      "metadata": {
        "id": "tCONaY7lDA3U"
      }
    },
    {
      "cell_type": "code",
      "source": [
        "for mol in modelos:\n",
        "  score = rmsle_cv(mol)\n",
        "  print(f\"\\n{mol} \\nScore: {score.mean():.5f} ({score.std():.5f})\\n\")"
      ],
      "metadata": {
        "colab": {
          "base_uri": "https://localhost:8080/"
        },
        "id": "iYeSglV0Dqa5",
        "outputId": "6e0643a6-98ab-4117-f70a-2b9583f3f78a"
      },
      "execution_count": null,
      "outputs": [
        {
          "output_type": "stream",
          "name": "stdout",
          "text": [
            "\n",
            "Pipeline(steps=[('robustscaler', RobustScaler()),\n",
            "                ('lasso', Lasso(alpha=0.0005, random_state=69))]) \n",
            "Score: 0.11665 (0.00632)\n",
            "\n",
            "\n",
            "Pipeline(steps=[('robustscaler', RobustScaler()),\n",
            "                ('elasticnet',\n",
            "                 ElasticNet(alpha=0.0005, l1_ratio=0.9, random_state=69))]) \n",
            "Score: 0.11675 (0.00630)\n",
            "\n",
            "\n",
            "KernelRidge(alpha=0.6, coef0=2.5, degree=2, kernel='polynomial') \n",
            "Score: 0.12030 (0.00494)\n",
            "\n",
            "\n",
            "GradientBoostingRegressor(learning_rate=0.05, loss='huber', max_depth=4,\n",
            "                          max_features='sqrt', min_samples_leaf=15,\n",
            "                          min_samples_split=10, n_estimators=3000,\n",
            "                          random_state=69) \n",
            "Score: 0.11768 (0.00832)\n",
            "\n",
            "\n",
            "XGBRegressor(colsample_bytree=0.4, gamma=0.04, learning_rate=0.05,\n",
            "             min_child_weight=1.7, n_estimators=2200, nthread=-1,\n",
            "             random_state=69, reg_alpha=0.4, reg_lambda=0.8, silent=1,\n",
            "             subsample=0.5) \n",
            "Score: 0.11723 (0.00734)\n",
            "\n",
            "\n",
            "LGBMRegressor(bagging_fraction=0.8, bagging_freq=5, bagging_seed=9,\n",
            "              feature_fraction=0.2, feature_fraction_seed=9, learning_rate=0.05,\n",
            "              max_bin=55, min_data_in_leaf=6, min_sum_hessian_in_leaf=11,\n",
            "              n_estimators=720, num_leaves=5, objective='regression') \n",
            "Score: 0.11718 (0.00720)\n",
            "\n"
          ]
        }
      ]
    },
    {
      "cell_type": "markdown",
      "source": [
        "## Empilhando Modelos"
      ],
      "metadata": {
        "id": "N0kBh7VCF7gl"
      }
    },
    {
      "cell_type": "markdown",
      "source": [
        "Vamos criar uma classe com uma função fit e uma função predict."
      ],
      "metadata": {
        "id": "dg7ZyTHKo4FL"
      }
    },
    {
      "cell_type": "markdown",
      "source": [
        "Nesta classe, temos um método de empilhamento de modelos, onde treinamos clones dos modelos, fazemos previsões, e criamos uma nova feature com a média das previsões. Depois treinamos e testamos um meta-modelo com a adição desta nova feature."
      ],
      "metadata": {
        "id": "KnBJo_c4rfXJ"
      }
    },
    {
      "cell_type": "code",
      "source": [
        "class EmpilhaModelos(BaseEstimator, RegressorMixin, TransformerMixin):\n",
        "    def __init__(self, base_models, meta_model, n_folds=5):\n",
        "        self.base_models = base_models\n",
        "        self.meta_model = meta_model\n",
        "        self.n_folds = n_folds\n",
        "   \n",
        "    # Vamos fitar usando clones dos modelos\n",
        "    def fit(self, X, y):\n",
        "        self.base_models_ = [list() for x in self.base_models]\n",
        "        self.meta_model_ = clone(self.meta_model)\n",
        "        kfold = KFold(n_splits=self.n_folds, shuffle=True, random_state=69)\n",
        "        \n",
        "        # Treinando os modelos base clonados e criando as predições para treinar o meta-modelo\n",
        "        out_of_fold_pred = np.zeros((X.shape[0], len(self.base_models)))\n",
        "        for i, model in enumerate(self.base_models):\n",
        "            for train_index, holdout_index in kfold.split(X, y):\n",
        "                instance = clone(model)\n",
        "                self.base_models_[i].append(instance)\n",
        "                instance.fit(X[train_index], y[train_index])\n",
        "                y_pred = instance.predict(X[holdout_index])\n",
        "                out_of_fold_pred[holdout_index, i] = y_pred\n",
        "                \n",
        "        # Treinando o meta-modelo clonado usando as previsões como uma nova feature\n",
        "        self.meta_model_.fit(out_of_fold_pred, y)\n",
        "        return self\n",
        "\n",
        "    # Prevendo com todos os modelos no teste e usando a média como uma meta-feature\n",
        "    # para a predição final usando o meta-modelo\n",
        "    def predict(self, X):\n",
        "        meta_features = np.column_stack([np.column_stack(\n",
        "                                        [model.predict(X) for model in base_models]).mean(axis=1)\n",
        "                                        for base_models in self.base_models_ ])\n",
        "        return self.meta_model_.predict(meta_features)"
      ],
      "metadata": {
        "id": "1uxmfrmsS_uC"
      },
      "execution_count": null,
      "outputs": []
    },
    {
      "cell_type": "markdown",
      "source": [
        "Vamos fazer a validação cruzada com 5 folds usando os seis modelos e o lasso como meta-modelo, pois ele performou melhor individualmente."
      ],
      "metadata": {
        "id": "YE0VmblRBz6c"
      }
    },
    {
      "cell_type": "code",
      "source": [
        "modelos_empilhados = EmpilhaModelos(base_models = modelos,\n",
        "                                    meta_model = lasso)\n",
        "\n",
        "score = rmsle_cv(modelos_empilhados)\n",
        "print(f\"Score: {score.mean():.5f} ({score.std():.5f})\")"
      ],
      "metadata": {
        "id": "e5BUpUQLTca3",
        "colab": {
          "base_uri": "https://localhost:8080/"
        },
        "outputId": "408eb70b-c455-4eee-bed9-21ff9fbbb240"
      },
      "execution_count": null,
      "outputs": [
        {
          "output_type": "stream",
          "name": "stdout",
          "text": [
            "Score: 0.11076 (0.00657)\n"
          ]
        }
      ]
    },
    {
      "cell_type": "markdown",
      "source": [
        "Por fim, vamos treinar o modelo empilhado e calcular o erro médio."
      ],
      "metadata": {
        "id": "_CTER7iPCVTl"
      }
    },
    {
      "cell_type": "code",
      "source": [
        "modelos_empilhados.fit(train.values, y_train)\n",
        "emp_train_pred = modelos_empilhados.predict(train.values)\n",
        "emp_pred = np.expm1(modelos_empilhados.predict(test.values))\n",
        "print(f\"Erro médio: {rmsle(y_train, emp_train_pred):.5f}\")"
      ],
      "metadata": {
        "id": "YyjO2t8fUgiR",
        "colab": {
          "base_uri": "https://localhost:8080/"
        },
        "outputId": "b25a6403-6279-496a-9595-6ac1ce1e476b"
      },
      "execution_count": null,
      "outputs": [
        {
          "output_type": "stream",
          "name": "stdout",
          "text": [
            "Erro médio: 0.08212\n"
          ]
        }
      ]
    },
    {
      "cell_type": "markdown",
      "source": [
        "E temos a submissão para a competição."
      ],
      "metadata": {
        "id": "WC7XWc0bRyDi"
      }
    },
    {
      "cell_type": "code",
      "source": [
        "sub = pd.DataFrame()\n",
        "sub['Id'] = test_id\n",
        "sub['SalePrice'] = emp_pred\n",
        "sub.to_csv(path + 'submission.csv', index=False)\n",
        "sub"
      ],
      "metadata": {
        "id": "ZoHAQRYbRyUr",
        "colab": {
          "base_uri": "https://localhost:8080/",
          "height": 423
        },
        "outputId": "15518f9b-9e8b-453f-b0fa-42b931ad5a65"
      },
      "execution_count": null,
      "outputs": [
        {
          "output_type": "execute_result",
          "data": {
            "text/plain": [
              "        Id  SalePrice\n",
              "0     1461 125917.973\n",
              "1     1462 163684.710\n",
              "2     1463 184341.981\n",
              "3     1464 194621.807\n",
              "4     1465 195000.036\n",
              "...    ...        ...\n",
              "1454  2915  84026.672\n",
              "1455  2916  83378.857\n",
              "1456  2917 161445.284\n",
              "1457  2918 115448.984\n",
              "1458  2919 212347.802\n",
              "\n",
              "[1459 rows x 2 columns]"
            ],
            "text/html": [
              "\n",
              "  <div id=\"df-f02a59b3-047b-496e-9f42-d195be34fd08\">\n",
              "    <div class=\"colab-df-container\">\n",
              "      <div>\n",
              "<style scoped>\n",
              "    .dataframe tbody tr th:only-of-type {\n",
              "        vertical-align: middle;\n",
              "    }\n",
              "\n",
              "    .dataframe tbody tr th {\n",
              "        vertical-align: top;\n",
              "    }\n",
              "\n",
              "    .dataframe thead th {\n",
              "        text-align: right;\n",
              "    }\n",
              "</style>\n",
              "<table border=\"1\" class=\"dataframe\">\n",
              "  <thead>\n",
              "    <tr style=\"text-align: right;\">\n",
              "      <th></th>\n",
              "      <th>Id</th>\n",
              "      <th>SalePrice</th>\n",
              "    </tr>\n",
              "  </thead>\n",
              "  <tbody>\n",
              "    <tr>\n",
              "      <th>0</th>\n",
              "      <td>1461</td>\n",
              "      <td>125917.973</td>\n",
              "    </tr>\n",
              "    <tr>\n",
              "      <th>1</th>\n",
              "      <td>1462</td>\n",
              "      <td>163684.710</td>\n",
              "    </tr>\n",
              "    <tr>\n",
              "      <th>2</th>\n",
              "      <td>1463</td>\n",
              "      <td>184341.981</td>\n",
              "    </tr>\n",
              "    <tr>\n",
              "      <th>3</th>\n",
              "      <td>1464</td>\n",
              "      <td>194621.807</td>\n",
              "    </tr>\n",
              "    <tr>\n",
              "      <th>4</th>\n",
              "      <td>1465</td>\n",
              "      <td>195000.036</td>\n",
              "    </tr>\n",
              "    <tr>\n",
              "      <th>...</th>\n",
              "      <td>...</td>\n",
              "      <td>...</td>\n",
              "    </tr>\n",
              "    <tr>\n",
              "      <th>1454</th>\n",
              "      <td>2915</td>\n",
              "      <td>84026.672</td>\n",
              "    </tr>\n",
              "    <tr>\n",
              "      <th>1455</th>\n",
              "      <td>2916</td>\n",
              "      <td>83378.857</td>\n",
              "    </tr>\n",
              "    <tr>\n",
              "      <th>1456</th>\n",
              "      <td>2917</td>\n",
              "      <td>161445.284</td>\n",
              "    </tr>\n",
              "    <tr>\n",
              "      <th>1457</th>\n",
              "      <td>2918</td>\n",
              "      <td>115448.984</td>\n",
              "    </tr>\n",
              "    <tr>\n",
              "      <th>1458</th>\n",
              "      <td>2919</td>\n",
              "      <td>212347.802</td>\n",
              "    </tr>\n",
              "  </tbody>\n",
              "</table>\n",
              "<p>1459 rows × 2 columns</p>\n",
              "</div>\n",
              "      <button class=\"colab-df-convert\" onclick=\"convertToInteractive('df-f02a59b3-047b-496e-9f42-d195be34fd08')\"\n",
              "              title=\"Convert this dataframe to an interactive table.\"\n",
              "              style=\"display:none;\">\n",
              "        \n",
              "  <svg xmlns=\"http://www.w3.org/2000/svg\" height=\"24px\"viewBox=\"0 0 24 24\"\n",
              "       width=\"24px\">\n",
              "    <path d=\"M0 0h24v24H0V0z\" fill=\"none\"/>\n",
              "    <path d=\"M18.56 5.44l.94 2.06.94-2.06 2.06-.94-2.06-.94-.94-2.06-.94 2.06-2.06.94zm-11 1L8.5 8.5l.94-2.06 2.06-.94-2.06-.94L8.5 2.5l-.94 2.06-2.06.94zm10 10l.94 2.06.94-2.06 2.06-.94-2.06-.94-.94-2.06-.94 2.06-2.06.94z\"/><path d=\"M17.41 7.96l-1.37-1.37c-.4-.4-.92-.59-1.43-.59-.52 0-1.04.2-1.43.59L10.3 9.45l-7.72 7.72c-.78.78-.78 2.05 0 2.83L4 21.41c.39.39.9.59 1.41.59.51 0 1.02-.2 1.41-.59l7.78-7.78 2.81-2.81c.8-.78.8-2.07 0-2.86zM5.41 20L4 18.59l7.72-7.72 1.47 1.35L5.41 20z\"/>\n",
              "  </svg>\n",
              "      </button>\n",
              "      \n",
              "  <style>\n",
              "    .colab-df-container {\n",
              "      display:flex;\n",
              "      flex-wrap:wrap;\n",
              "      gap: 12px;\n",
              "    }\n",
              "\n",
              "    .colab-df-convert {\n",
              "      background-color: #E8F0FE;\n",
              "      border: none;\n",
              "      border-radius: 50%;\n",
              "      cursor: pointer;\n",
              "      display: none;\n",
              "      fill: #1967D2;\n",
              "      height: 32px;\n",
              "      padding: 0 0 0 0;\n",
              "      width: 32px;\n",
              "    }\n",
              "\n",
              "    .colab-df-convert:hover {\n",
              "      background-color: #E2EBFA;\n",
              "      box-shadow: 0px 1px 2px rgba(60, 64, 67, 0.3), 0px 1px 3px 1px rgba(60, 64, 67, 0.15);\n",
              "      fill: #174EA6;\n",
              "    }\n",
              "\n",
              "    [theme=dark] .colab-df-convert {\n",
              "      background-color: #3B4455;\n",
              "      fill: #D2E3FC;\n",
              "    }\n",
              "\n",
              "    [theme=dark] .colab-df-convert:hover {\n",
              "      background-color: #434B5C;\n",
              "      box-shadow: 0px 1px 3px 1px rgba(0, 0, 0, 0.15);\n",
              "      filter: drop-shadow(0px 1px 2px rgba(0, 0, 0, 0.3));\n",
              "      fill: #FFFFFF;\n",
              "    }\n",
              "  </style>\n",
              "\n",
              "      <script>\n",
              "        const buttonEl =\n",
              "          document.querySelector('#df-f02a59b3-047b-496e-9f42-d195be34fd08 button.colab-df-convert');\n",
              "        buttonEl.style.display =\n",
              "          google.colab.kernel.accessAllowed ? 'block' : 'none';\n",
              "\n",
              "        async function convertToInteractive(key) {\n",
              "          const element = document.querySelector('#df-f02a59b3-047b-496e-9f42-d195be34fd08');\n",
              "          const dataTable =\n",
              "            await google.colab.kernel.invokeFunction('convertToInteractive',\n",
              "                                                     [key], {});\n",
              "          if (!dataTable) return;\n",
              "\n",
              "          const docLinkHtml = 'Like what you see? Visit the ' +\n",
              "            '<a target=\"_blank\" href=https://colab.research.google.com/notebooks/data_table.ipynb>data table notebook</a>'\n",
              "            + ' to learn more about interactive tables.';\n",
              "          element.innerHTML = '';\n",
              "          dataTable['output_type'] = 'display_data';\n",
              "          await google.colab.output.renderOutput(dataTable, element);\n",
              "          const docLink = document.createElement('div');\n",
              "          docLink.innerHTML = docLinkHtml;\n",
              "          element.appendChild(docLink);\n",
              "        }\n",
              "      </script>\n",
              "    </div>\n",
              "  </div>\n",
              "  "
            ]
          },
          "metadata": {},
          "execution_count": 106
        }
      ]
    },
    {
      "cell_type": "markdown",
      "source": [
        "Está submissão teve erro médio de 0.12169, top 9% na competição, no dia 16 de julho de 2021."
      ],
      "metadata": {
        "id": "4VhLabqXDrBy"
      }
    }
  ]
}